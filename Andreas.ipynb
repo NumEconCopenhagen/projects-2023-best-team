{
 "cells": [
  {
   "attachments": {},
   "cell_type": "markdown",
   "metadata": {},
   "source": [
    "**Table of contents**<a id='toc0_'></a>    \n",
    "- 1. [Problem 1: Optimal taxation with government consumption](#toc1_)    \n",
    "- 2. [Problem 2: Labor adjustment costs](#toc2_)    \n",
    "- 3. [Problem 3: Global optimizer with refined multi-start](#toc3_)    \n",
    "\n",
    "<!-- vscode-jupyter-toc-config\n",
    "\tnumbering=true\n",
    "\tanchor=true\n",
    "\tflat=false\n",
    "\tminLevel=2\n",
    "\tmaxLevel=6\n",
    "\t/vscode-jupyter-toc-config -->\n",
    "<!-- THIS CELL WILL BE REPLACED ON TOC UPDATE. DO NOT WRITE YOUR TEXT IN THIS CELL -->"
   ]
  },
  {
   "cell_type": "code",
   "execution_count": 1,
   "metadata": {},
   "outputs": [],
   "source": [
    "import numpy as np\n",
    "import matplotlib.pyplot as plt\n",
    "import sympy as sp\n",
    "from scipy.optimize import minimize"
   ]
  },
  {
   "attachments": {},
   "cell_type": "markdown",
   "metadata": {},
   "source": [
    "## 1. <a id='toc1_'></a>[Problem 1: Optimal taxation with government consumption](#toc0_)"
   ]
  },
  {
   "attachments": {},
   "cell_type": "markdown",
   "metadata": {},
   "source": [
    "\n",
    "Consider a worker choosing hours of labor, $L\\in[0,24]$, to maximize utility: \n",
    "\n",
    "$$\n",
    "\\begin{align*}\n",
    "V(w,\\tau,G)&=\\max_{L\\in[0,24]}\\ln\\left(C^{\\alpha}G^{1-\\alpha}\\right)-\\nu\\frac{L^{2}}{2}\\\\&\\text{s.t.}\\\\&C=\\kappa+(1-\\tau)wL\n",
    "\\end{align*}\n",
    "$$\n",
    "\n",
    "where \n",
    "\n",
    "* $C$ is *private* consumption with weight $\\alpha\\in(0,1)$.\n",
    "* $\\kappa > 0$ is the *free private* consumption component.\n",
    "* $(1-\\tau)wL$ is the *costly private* consumption component.\n",
    "* $w > 0 $ is the real wage.\n",
    "* $\\tau \\in (0,1)$ is the labor-income tax rate.\n",
    "* $G > 0 $ is *government* consumption with weight $1-\\alpha$.\n",
    "* $\\nu > 0$ is the disutility of labor scaling factor"
   ]
  },
  {
   "attachments": {},
   "cell_type": "markdown",
   "metadata": {},
   "source": [
    "\n",
    "The baseline parameters are:\n",
    "\n",
    "$$\n",
    "\\begin{align*}\n",
    "\\alpha &= 0.5\\\\\n",
    "\\kappa &= 1.0\\\\\n",
    "\\nu &= \\frac{1}{2\\cdot16^2} \\\\\n",
    "w &= 1.0 \\\\ \n",
    "\\tau &= 0.30 \\\\\n",
    "\\end{align*}\n",
    "$$"
   ]
  },
  {
   "attachments": {},
   "cell_type": "markdown",
   "metadata": {},
   "source": [
    "**Question 1:** Verify that the optimal labor supply choice is $L^{\\star}(\\tilde{w}) =\\frac{-\\kappa+\\sqrt{\\kappa^{2}+4\\frac{\\alpha}{\\nu}\\tilde{w}^2}}{2\\tilde{w}}$, where $\\tilde{w} = (1-\\tau)w$, for $G\\in\\left\\{1.0 , 2.0\\right\\}$."
   ]
  },
  {
   "cell_type": "code",
   "execution_count": 8,
   "metadata": {},
   "outputs": [
    {
     "ename": "ImportError",
     "evalue": "cannot import name 'q1_solve_equation' from 'exam' (c:\\Users\\andre\\Desktop\\projects-2023-best-team-12\\exam.py)",
     "output_type": "error",
     "traceback": [
      "\u001b[1;31m---------------------------------------------------------------------------\u001b[0m",
      "\u001b[1;31mImportError\u001b[0m                               Traceback (most recent call last)",
      "Cell \u001b[1;32mIn[8], line 1\u001b[0m\n\u001b[1;32m----> 1\u001b[0m \u001b[39mfrom\u001b[39;00m \u001b[39mexam\u001b[39;00m \u001b[39mimport\u001b[39;00m q1_solve_equation\n\u001b[0;32m      2\u001b[0m solution \u001b[39m=\u001b[39m q1_solve_equation()\n\u001b[0;32m      3\u001b[0m \u001b[39mprint\u001b[39m(\u001b[39m\"\u001b[39m\u001b[39mThe solution is\u001b[39m\u001b[39m\"\u001b[39m, solution)\n",
      "\u001b[1;31mImportError\u001b[0m: cannot import name 'q1_solve_equation' from 'exam' (c:\\Users\\andre\\Desktop\\projects-2023-best-team-12\\exam.py)"
     ]
    }
   ],
   "source": [
    "from exam import q1_solve_equation\n",
    "solution = q1_solve_equation()\n",
    "print(\"The solution is\", solution)"
   ]
  },
  {
   "attachments": {},
   "cell_type": "markdown",
   "metadata": {},
   "source": [
    "Using sympy, we optimize the labor supply in the exam.py file."
   ]
  },
  {
   "attachments": {},
   "cell_type": "markdown",
   "metadata": {},
   "source": [
    "Sympy has returned two solutions because the equation we are solving is quadratic. Unfortunately, SYMPY has done derrivations beyond the given solution. The two solutions are:\n",
    "$\\frac{\\kappa\\nu - \\sqrt{\\nu(4\\alpha\\tau^2w^2 - 8\\alpha\\tau w^2 + 4\\alpha w^2 + \\kappa^2\\nu)}}{2\\nu w (\\tau - 1)}$\n",
    "and\n",
    "$\\frac{\\kappa\\nu + \\sqrt{\\nu(4\\alpha\\tau^2w^2 - 8\\alpha\\tau w^2 + 4\\alpha w^2 + \\kappa^2\\nu)}}{2\\nu w (\\tau - 1)}$\n",
    "\n",
    "We will now simplify to reach the desired outcome:\n",
    "The numerator in the square root is the term that needs simplifying. Let's write it in a more compact form and simplify it:\n",
    "\n",
    "$4\\alpha\\tau^2w^2 - 8\\alpha\\tau w^2 + 4\\alpha w^2$\n",
    "\n",
    "Factor out $4\\alpha w^2$:\n",
    "\n",
    "$4\\alpha w^2 (\\tau^2 - 2\\tau + 1)$\n",
    "\n",
    "$(\\tau^2 - 2\\tau + 1)$=$(1-\\tau)^2$. Therefore:\n",
    "\n",
    "$4\\alpha w^2 (1- \\tau)^2$\n",
    "\n",
    "Remember that we defined $\\tilde{w} = (1 - \\tau)w$, so this can be simplified further to:\n",
    "$4\\alpha\\tilde{w}^2$\n",
    "Substituting this back into the solutions, we get:\n",
    "\n",
    "$\\frac{-\\kappa + \\sqrt{\\kappa^2 + 4\\frac{\\alpha}{\\nu}\\tilde{w}^2}}{2\\tilde{w}}$ and\n",
    "\n",
    "$\\frac{-\\kappa - \\sqrt{\\kappa^2 + 4\\frac{\\alpha}{\\nu}\\tilde{w}^2}}{2\\tilde{w}}$\n",
    "The second solution is not valid in this context because labor cannot be negative. Therefore, the valid solution is the first one and we have verified the optimal $L^{\\star}(\\tilde{w})$.\n",
    "\n",
    "We see that G is not included in the optimal L*, and as such this is the solution for both $G\\in\\left\\{1.0 , 2.0\\right\\}$.\n"
   ]
  },
  {
   "attachments": {},
   "cell_type": "markdown",
   "metadata": {},
   "source": [
    "**Question 2:** Illustrate how $L^{\\star}(\\tilde{w})$ depends on $w$."
   ]
  },
  {
   "cell_type": "code",
   "execution_count": 3,
   "metadata": {},
   "outputs": [
    {
     "ename": "KeyboardInterrupt",
     "evalue": "",
     "output_type": "error",
     "traceback": [
      "\u001b[1;31m---------------------------------------------------------------------------\u001b[0m",
      "\u001b[1;31mKeyboardInterrupt\u001b[0m                         Traceback (most recent call last)",
      "Cell \u001b[1;32mIn[3], line 1\u001b[0m\n\u001b[1;32m----> 1\u001b[0m \u001b[39mfrom\u001b[39;00m \u001b[39mexam\u001b[39;00m \u001b[39mimport\u001b[39;00m plot_optimal_labor\n\u001b[0;32m      3\u001b[0m \u001b[39m# Call the function to display the plot\u001b[39;00m\n\u001b[0;32m      4\u001b[0m q2_plot_optimal_labor()\n",
      "File \u001b[1;32mc:\\Users\\andre\\Desktop\\projects-2023-best-team-9\\exam.py:283\u001b[0m\n\u001b[0;32m    281\u001b[0m \u001b[39m# Run the algorithm multiple times\u001b[39;00m\n\u001b[0;32m    282\u001b[0m \u001b[39mfor\u001b[39;00m _ \u001b[39min\u001b[39;00m \u001b[39mrange\u001b[39m(num_runs):\n\u001b[1;32m--> 283\u001b[0m     _, x0_values, iterations \u001b[39m=\u001b[39m refined_global_optimizer(bounds, tau, K_warmup, K, optimizer)\n\u001b[0;32m    284\u001b[0m     iterations_list\u001b[39m.\u001b[39mappend(iterations)\n\u001b[0;32m    286\u001b[0m \u001b[39m# Calculate the average number of iterations\u001b[39;00m\n",
      "File \u001b[1;32mc:\\Users\\andre\\Desktop\\projects-2023-best-team-9\\exam.py:257\u001b[0m, in \u001b[0;36mrefined_global_optimizer\u001b[1;34m(bounds, tau, K_warmup, K, optimizer)\u001b[0m\n\u001b[0;32m    254\u001b[0m \u001b[39melse\u001b[39;00m:\n\u001b[0;32m    255\u001b[0m     x_k0 \u001b[39m=\u001b[39m x_k\n\u001b[1;32m--> 257\u001b[0m res \u001b[39m=\u001b[39m minimize(objective_function, x_k0, method\u001b[39m=\u001b[39;49moptimizer, tol\u001b[39m=\u001b[39;49mtau)\n\u001b[0;32m    258\u001b[0m x_k_star \u001b[39m=\u001b[39m res\u001b[39m.\u001b[39mx\n\u001b[0;32m    260\u001b[0m \u001b[39mif\u001b[39;00m x_star \u001b[39mis\u001b[39;00m \u001b[39mNone\u001b[39;00m \u001b[39mor\u001b[39;00m objective_function(x_k_star) \u001b[39m<\u001b[39m objective_function(x_star):\n",
      "File \u001b[1;32mc:\\Users\\andre\\anaconda3\\lib\\site-packages\\scipy\\optimize\\_minimize.py:691\u001b[0m, in \u001b[0;36mminimize\u001b[1;34m(fun, x0, args, method, jac, hess, hessp, bounds, constraints, tol, callback, options)\u001b[0m\n\u001b[0;32m    689\u001b[0m     res \u001b[39m=\u001b[39m _minimize_cg(fun, x0, args, jac, callback, \u001b[39m*\u001b[39m\u001b[39m*\u001b[39moptions)\n\u001b[0;32m    690\u001b[0m \u001b[39melif\u001b[39;00m meth \u001b[39m==\u001b[39m \u001b[39m'\u001b[39m\u001b[39mbfgs\u001b[39m\u001b[39m'\u001b[39m:\n\u001b[1;32m--> 691\u001b[0m     res \u001b[39m=\u001b[39m _minimize_bfgs(fun, x0, args, jac, callback, \u001b[39m*\u001b[39m\u001b[39m*\u001b[39moptions)\n\u001b[0;32m    692\u001b[0m \u001b[39melif\u001b[39;00m meth \u001b[39m==\u001b[39m \u001b[39m'\u001b[39m\u001b[39mnewton-cg\u001b[39m\u001b[39m'\u001b[39m:\n\u001b[0;32m    693\u001b[0m     res \u001b[39m=\u001b[39m _minimize_newtoncg(fun, x0, args, jac, hess, hessp, callback,\n\u001b[0;32m    694\u001b[0m                              \u001b[39m*\u001b[39m\u001b[39m*\u001b[39moptions)\n",
      "File \u001b[1;32mc:\\Users\\andre\\anaconda3\\lib\\site-packages\\scipy\\optimize\\_optimize.py:1388\u001b[0m, in \u001b[0;36m_minimize_bfgs\u001b[1;34m(fun, x0, args, jac, callback, gtol, norm, eps, maxiter, disp, return_all, finite_diff_rel_step, xrtol, **unknown_options)\u001b[0m\n\u001b[0;32m   1385\u001b[0m pk \u001b[39m=\u001b[39m \u001b[39m-\u001b[39mnp\u001b[39m.\u001b[39mdot(Hk, gfk)\n\u001b[0;32m   1386\u001b[0m \u001b[39mtry\u001b[39;00m:\n\u001b[0;32m   1387\u001b[0m     alpha_k, fc, gc, old_fval, old_old_fval, gfkp1 \u001b[39m=\u001b[39m \\\n\u001b[1;32m-> 1388\u001b[0m              _line_search_wolfe12(f, myfprime, xk, pk, gfk,\n\u001b[0;32m   1389\u001b[0m                                   old_fval, old_old_fval, amin\u001b[39m=\u001b[39;49m\u001b[39m1e-100\u001b[39;49m, amax\u001b[39m=\u001b[39;49m\u001b[39m1e100\u001b[39;49m)\n\u001b[0;32m   1390\u001b[0m \u001b[39mexcept\u001b[39;00m _LineSearchError:\n\u001b[0;32m   1391\u001b[0m     \u001b[39m# Line search failed to find a better solution.\u001b[39;00m\n\u001b[0;32m   1392\u001b[0m     warnflag \u001b[39m=\u001b[39m \u001b[39m2\u001b[39m\n",
      "File \u001b[1;32mc:\\Users\\andre\\anaconda3\\lib\\site-packages\\scipy\\optimize\\_optimize.py:1160\u001b[0m, in \u001b[0;36m_line_search_wolfe12\u001b[1;34m(f, fprime, xk, pk, gfk, old_fval, old_old_fval, **kwargs)\u001b[0m\n\u001b[0;32m   1146\u001b[0m \u001b[39m\"\"\"\u001b[39;00m\n\u001b[0;32m   1147\u001b[0m \u001b[39mSame as line_search_wolfe1, but fall back to line_search_wolfe2 if\u001b[39;00m\n\u001b[0;32m   1148\u001b[0m \u001b[39msuitable step length is not found, and raise an exception if a\u001b[39;00m\n\u001b[1;32m   (...)\u001b[0m\n\u001b[0;32m   1155\u001b[0m \n\u001b[0;32m   1156\u001b[0m \u001b[39m\"\"\"\u001b[39;00m\n\u001b[0;32m   1158\u001b[0m extra_condition \u001b[39m=\u001b[39m kwargs\u001b[39m.\u001b[39mpop(\u001b[39m'\u001b[39m\u001b[39mextra_condition\u001b[39m\u001b[39m'\u001b[39m, \u001b[39mNone\u001b[39;00m)\n\u001b[1;32m-> 1160\u001b[0m ret \u001b[39m=\u001b[39m line_search_wolfe1(f, fprime, xk, pk, gfk,\n\u001b[0;32m   1161\u001b[0m                          old_fval, old_old_fval,\n\u001b[0;32m   1162\u001b[0m                          \u001b[39m*\u001b[39m\u001b[39m*\u001b[39mkwargs)\n\u001b[0;32m   1164\u001b[0m \u001b[39mif\u001b[39;00m ret[\u001b[39m0\u001b[39m] \u001b[39mis\u001b[39;00m \u001b[39mnot\u001b[39;00m \u001b[39mNone\u001b[39;00m \u001b[39mand\u001b[39;00m extra_condition \u001b[39mis\u001b[39;00m \u001b[39mnot\u001b[39;00m \u001b[39mNone\u001b[39;00m:\n\u001b[0;32m   1165\u001b[0m     xp1 \u001b[39m=\u001b[39m xk \u001b[39m+\u001b[39m ret[\u001b[39m0\u001b[39m] \u001b[39m*\u001b[39m pk\n",
      "File \u001b[1;32mc:\\Users\\andre\\anaconda3\\lib\\site-packages\\scipy\\optimize\\_linesearch.py:84\u001b[0m, in \u001b[0;36mline_search_wolfe1\u001b[1;34m(f, fprime, xk, pk, gfk, old_fval, old_old_fval, args, c1, c2, amax, amin, xtol)\u001b[0m\n\u001b[0;32m     80\u001b[0m     \u001b[39mreturn\u001b[39;00m np\u001b[39m.\u001b[39mdot(gval[\u001b[39m0\u001b[39m], pk)\n\u001b[0;32m     82\u001b[0m derphi0 \u001b[39m=\u001b[39m np\u001b[39m.\u001b[39mdot(gfk, pk)\n\u001b[1;32m---> 84\u001b[0m stp, fval, old_fval \u001b[39m=\u001b[39m scalar_search_wolfe1(\n\u001b[0;32m     85\u001b[0m         phi, derphi, old_fval, old_old_fval, derphi0,\n\u001b[0;32m     86\u001b[0m         c1\u001b[39m=\u001b[39;49mc1, c2\u001b[39m=\u001b[39;49mc2, amax\u001b[39m=\u001b[39;49mamax, amin\u001b[39m=\u001b[39;49mamin, xtol\u001b[39m=\u001b[39;49mxtol)\n\u001b[0;32m     88\u001b[0m \u001b[39mreturn\u001b[39;00m stp, fc[\u001b[39m0\u001b[39m], gc[\u001b[39m0\u001b[39m], fval, old_fval, gval[\u001b[39m0\u001b[39m]\n",
      "File \u001b[1;32mc:\\Users\\andre\\anaconda3\\lib\\site-packages\\scipy\\optimize\\_linesearch.py:161\u001b[0m, in \u001b[0;36mscalar_search_wolfe1\u001b[1;34m(phi, derphi, phi0, old_phi0, derphi0, c1, c2, amax, amin, xtol)\u001b[0m\n\u001b[0;32m    159\u001b[0m     alpha1 \u001b[39m=\u001b[39m stp\n\u001b[0;32m    160\u001b[0m     phi1 \u001b[39m=\u001b[39m phi(stp)\n\u001b[1;32m--> 161\u001b[0m     derphi1 \u001b[39m=\u001b[39m derphi(stp)\n\u001b[0;32m    162\u001b[0m \u001b[39melse\u001b[39;00m:\n\u001b[0;32m    163\u001b[0m     \u001b[39mbreak\u001b[39;00m\n",
      "File \u001b[1;32mc:\\Users\\andre\\anaconda3\\lib\\site-packages\\scipy\\optimize\\_linesearch.py:80\u001b[0m, in \u001b[0;36mline_search_wolfe1.<locals>.derphi\u001b[1;34m(s)\u001b[0m\n\u001b[0;32m     78\u001b[0m gval[\u001b[39m0\u001b[39m] \u001b[39m=\u001b[39m fprime(xk \u001b[39m+\u001b[39m s\u001b[39m*\u001b[39mpk, \u001b[39m*\u001b[39margs)\n\u001b[0;32m     79\u001b[0m gc[\u001b[39m0\u001b[39m] \u001b[39m+\u001b[39m\u001b[39m=\u001b[39m \u001b[39m1\u001b[39m\n\u001b[1;32m---> 80\u001b[0m \u001b[39mreturn\u001b[39;00m np\u001b[39m.\u001b[39;49mdot(gval[\u001b[39m0\u001b[39;49m], pk)\n",
      "File \u001b[1;32m<__array_function__ internals>:180\u001b[0m, in \u001b[0;36mdot\u001b[1;34m(*args, **kwargs)\u001b[0m\n",
      "\u001b[1;31mKeyboardInterrupt\u001b[0m: "
     ]
    }
   ],
   "source": [
    "from exam import plot_optimal_labor\n",
    "\n",
    "# Call the function to display the plot\n",
    "q2_plot_optimal_labor()\n"
   ]
  },
  {
   "attachments": {},
   "cell_type": "markdown",
   "metadata": {},
   "source": [
    "We see that the optimal labour supply increases when the wage increases up to a cetain point around 16 hours. This can be explained by the tax rate being 30%, thus above a certain threshold the extra effort of working is not met by an equal compensation of consumption, especially given that the marginal utility rate of government consumption and consumption is decreasing in scale."
   ]
  },
  {
   "attachments": {},
   "cell_type": "markdown",
   "metadata": {},
   "source": [
    "In the figure aswell we can see that at even very low level of employment the labour supply is still quite high at around 11 hours. This can be explained by the cost of labour being very low, being weightet by $v/2$, which is a very small number. In a model containing utlity of free time the optimal labour supply curve would be quite different. "
   ]
  },
  {
   "attachments": {},
   "cell_type": "markdown",
   "metadata": {},
   "source": [
    "\n",
    "We now consider a government, who chooses $\\tau$ and spend all of the taxes on government consumption so:\n",
    "\n",
    "$$\n",
    "G = \\tau w L^{\\star}((1-\\tau)w)\n",
    "$$\n",
    "\n",
    "**Question 3:** Plot the implied $L$, $G$ and worker utility for a grid of $\\tau$-values.\n"
   ]
  },
  {
   "attachments": {},
   "cell_type": "markdown",
   "metadata": {},
   "source": [
    "Here we use numpy and matplotlib.plyplot to first calculate the grid og L and G parameters and storing them afterwards "
   ]
  },
  {
   "cell_type": "code",
   "execution_count": 5,
   "metadata": {},
   "outputs": [
    {
     "name": "stderr",
     "output_type": "stream",
     "text": [
      "C:\\Users\\andre\\AppData\\Local\\Temp\\ipykernel_44228\\937665870.py:22: RuntimeWarning: divide by zero encountered in log\n",
      "  utility = np.log((kappa + (1 - tau) * w * L_star)**alpha * G**(1 - alpha)) - nu * L_star**2 / 2\n",
      "C:\\Users\\andre\\AppData\\Local\\Temp\\ipykernel_44228\\937665870.py:20: RuntimeWarning: invalid value encountered in double_scalars\n",
      "  L_star = (-kappa + np.sqrt(kappa**2 + 4 * alpha / nu * tilde_w**2)) / (2 * tilde_w)\n"
     ]
    },
    {
     "data": {
      "image/png": "[encoded data removed]",
      "text/plain": [
       "<Figure size 1000x600 with 1 Axes>"
      ]
     },
     "metadata": {},
     "output_type": "display_data"
    }
   ],
   "source": [
    "import numpy as np\n",
    "import matplotlib.pyplot as plt\n",
    "\n",
    "w = 1.0\n",
    "kappa = 1.0\n",
    "alpha = 0.5\n",
    "nu = 1 / (2 * 16**2)\n",
    "tau_values = np.linspace(0, 1, 100)  \n",
    "\n",
    "L_values = []\n",
    "G_values = []\n",
    "utility_values = []\n",
    "\n",
    "for tau in tau_values:\n",
    "    tilde_w = (1 - tau) * w\n",
    "    L_star = (-kappa + np.sqrt(kappa**2 + 4 * alpha / nu * tilde_w**2)) / (2 * tilde_w)\n",
    "    G = tau * w * L_star\n",
    "    utility = np.log((kappa + (1 - tau) * w * L_star)**alpha * G**(1 - alpha)) - nu * L_star**2 / 2\n",
    "\n",
    "    L_values.append(L_star)\n",
    "    G_values.append(G)\n",
    "    utility_values.append(utility)\n",
    "\n",
    "plt.figure(figsize=(10, 6))\n",
    "plt.plot(tau_values, L_values, label='L')\n",
    "plt.plot(tau_values, G_values, label='G')\n",
    "plt.plot(tau_values, utility_values, label='Utility')\n",
    "plt.xlabel('Tax Rate (tau)')\n",
    "plt.ylabel('Value')\n",
    "plt.title('Implications of tau on L, G, and Utility')\n",
    "plt.legend()\n",
    "plt.grid(True)\n",
    "plt.show()"
   ]
  },
  {
   "attachments": {},
   "cell_type": "markdown",
   "metadata": {},
   "source": [
    "This figure displays a more detailed version of the laffer curve, showing that even given that government consumption gives utility, above a certain rate of taxation the labour supply decreases and thus the government consumption itself increases when the marginal taxation gets too high. In this graph we can also see that the maximum utility seems to be between 40 and 50%, which can be explained by alpha being 0,5 meaning the marginal utility of government consumption is equal to the marginal utility of consumption and thus the allocations should optimally be more or less equal given differences in other variables."
   ]
  },
  {
   "attachments": {},
   "cell_type": "markdown",
   "metadata": {},
   "source": [
    "**Question 4:** Find the socially optimal tax rate $\\tau^{\\star}\\in(0,1)$ maximizing worker utility. Illustrate your result."
   ]
  },
  {
   "attachments": {},
   "cell_type": "markdown",
   "metadata": {},
   "source": [
    "Here we use numpy to numerically optimize tax rates, we calculate different utilities for different tax rates and stores them to display in the figure below."
   ]
  },
  {
   "cell_type": "code",
   "execution_count": 6,
   "metadata": {},
   "outputs": [
    {
     "name": "stdout",
     "output_type": "stream",
     "text": [
      "Optimal tax rate (tau_star): 0.5145311264139927\n",
      "Maximized worker utility: 1.8591992509323028\n"
     ]
    },
    {
     "name": "stderr",
     "output_type": "stream",
     "text": [
      "C:\\Users\\andre\\AppData\\Local\\Temp\\ipykernel_44228\\2023066052.py:16: RuntimeWarning: divide by zero encountered in log\n",
      "  utility = np.log((kappa + (1 - tau) * w * L_star)**alpha * (tau * w * L_star)**(1 - alpha)) - nu * L_star**2 / 2\n",
      "C:\\Users\\andre\\AppData\\Local\\Temp\\ipykernel_44228\\2023066052.py:15: RuntimeWarning: invalid value encountered in double_scalars\n",
      "  L_star = (-kappa + np.sqrt(kappa**2 + 4 * alpha / nu * tilde_w**2)) / (2 * tilde_w)\n"
     ]
    },
    {
     "data": {
      "image/png": "[encoded data removed]",
      "text/plain": [
       "<Figure size 800x600 with 1 Axes>"
      ]
     },
     "metadata": {},
     "output_type": "display_data"
    }
   ],
   "source": [
    "# write your code here\n",
    "import numpy as np\n",
    "import matplotlib.pyplot as plt\n",
    "from scipy.optimize import minimize\n",
    "\n",
    "# Define the variables and parameters\n",
    "w = 1.0\n",
    "kappa = 1.0\n",
    "alpha = 0.5\n",
    "nu = 1 / (2 * 16**2)\n",
    "\n",
    "# Define the worker utility function\n",
    "def worker_utility(tau):\n",
    "    tilde_w = (1 - tau) * w\n",
    "    L_star = (-kappa + np.sqrt(kappa**2 + 4 * alpha / nu * tilde_w**2)) / (2 * tilde_w)\n",
    "    utility = np.log((kappa + (1 - tau) * w * L_star)**alpha * (tau * w * L_star)**(1 - alpha)) - nu * L_star**2 / 2\n",
    "    return -utility  # Negative sign for maximization\n",
    "\n",
    "# Perform numerical optimization to find the optimal tau\n",
    "result = minimize(worker_utility, x0=0.5, bounds=[(0, 1)])\n",
    "\n",
    "tau_star = result.x[0]\n",
    "utility_star = -result.fun\n",
    "\n",
    "print(\"Optimal tax rate (tau_star):\", tau_star)\n",
    "print(\"Maximized worker utility:\", utility_star)\n",
    "\n",
    "# Plot the worker utility function\n",
    "tau_values = np.linspace(0, 1, 100)\n",
    "utility_values = [-worker_utility(tau) for tau in tau_values]\n",
    "\n",
    "plt.figure(figsize=(8, 6))\n",
    "plt.plot(tau_values, utility_values)\n",
    "plt.scatter(tau_star, utility_star, color='red', label='Maximized Utility')\n",
    "plt.xlabel('Tax Rate (tau)')\n",
    "plt.ylabel('Worker Utility')\n",
    "plt.title('Worker Utility as a Function of Tax Rate')\n",
    "plt.legend()\n",
    "plt.grid(True)\n",
    "plt.show()"
   ]
  },
  {
   "attachments": {},
   "cell_type": "markdown",
   "metadata": {},
   "source": [
    "This graph expands on the utlity graph from question 3, we see that above a set level of taxation (calculated to 51%) an increase in the tax rate actually decreases the government consumption, as the labour supply is negatively adjusted. In economic theory this graph is known as the Laffer curve, however its empirical validation is not as clear."
   ]
  },
  {
   "attachments": {},
   "cell_type": "markdown",
   "metadata": {},
   "source": [
    "A more general preference formulation for the worker is:\n",
    "\n",
    "$$\n",
    "\\begin{align*}\n",
    "\\mathcal{V}(w,\\tau,G)&=\\max_{L\\in[0,24]}\\frac{\\left[ \\left( \\alpha C^{\\frac{\\sigma-1}{\\sigma}}+(1-\\alpha) G^{\\frac{\\sigma-1}{\\sigma}} \\right)^{\\frac{\\sigma}{1-\\sigma} }\\right]^{1-\\rho}-1}{1-\\rho}- \\nu\\frac{L^{1+\\varepsilon}}{1+\\varepsilon},\\,\\,\\,\\varepsilon,\\rho,\\sigma>0,\\,\\,\\,\\rho,\\sigma\\neq1\\\\&\\text{s.t.}\\\\&C=\\kappa+(1-\\tau)wL\n",
    "\\end{align*}    \n",
    "$$\n",
    "\n",
    "Optimal labor supply is now $L^{\\star}(\\tilde{w},G)$."
   ]
  },
  {
   "attachments": {},
   "cell_type": "markdown",
   "metadata": {},
   "source": [
    "Questions 5 and 6 must be answered with the general formulation, and for 2 different set of parameters:\n",
    "\n",
    "- Set 1:  $\\sigma = 1.001$, $\\rho = 1.001$ and $\\varepsilon = 1.0$.\n",
    "- Set 2:  $\\sigma = 1.5$, $\\rho = 1.5$ and $\\varepsilon = 1.0 $."
   ]
  },
  {
   "attachments": {},
   "cell_type": "markdown",
   "metadata": {},
   "source": [
    "**Question 5:** Find the $G$ that solves $G = \\tau w L^{\\star}((1-\\tau)w,G)$ using the $\\tau$ found in question 4.\n",
    "\n",
    "*Hint: First write code that solves the worker problem for given values of $G$ and $\\tau$. Then find the $G$ that solves $G = \\tau w L^{\\star}((1-\\tau)w,G)$ using $\\tau$=0,54 based on this.*"
   ]
  },
  {
   "attachments": {},
   "cell_type": "markdown",
   "metadata": {},
   "source": [
    "We see that when the elasticity of substitution $\\sigma$ increases the optimum level of government consumption decreases, this can be explained that when its more costly to switch betweeen types of consumption, paying money in taxes for government consumption is more costly. as the utitlity tradeoff between the types of goods are directly affected."
   ]
  },
  {
   "cell_type": "code",
   "execution_count": 2,
   "metadata": {},
   "outputs": [
    {
     "name": "stderr",
     "output_type": "stream",
     "text": [
      "C:\\Users\\andre\\AppData\\Local\\Temp\\ipykernel_42136\\3431970061.py:19: RuntimeWarning: divide by zero encountered in power\n",
      "  return -((term1**(1 - rho) - 1) / (1 - rho) - term2)\n",
      "c:\\Users\\andre\\anaconda3\\lib\\site-packages\\scipy\\optimize\\_numdiff.py:576: RuntimeWarning: invalid value encountered in subtract\n",
      "  df = fun(x) - f0\n"
     ]
    },
    {
     "name": "stdout",
     "output_type": "stream",
     "text": [
      "Optimal labor supply (L*): 13.797030672453795\n",
      "Optimal public goods level (G*): 0.4999999152943417\n"
     ]
    }
   ],
   "source": [
    "import numpy as np\n",
    "from scipy.optimize import minimize\n",
    "\n",
    "# Parameters\n",
    "sigma = 1.0001\n",
    "rho = 1.0001\n",
    "epsilon = 1.0\n",
    "alpha = 0.5\n",
    "nu = 1/(2 * 16**2)\n",
    "kappa = 1\n",
    "tau = 0.54\n",
    "w = 1  # Assuming wage rate to be 1\n",
    "\n",
    "# Utility function\n",
    "def utility(L, w, tau, G):\n",
    "    C = kappa + (1 - tau)*w*L\n",
    "    term1 = (alpha*C**((sigma - 1)/sigma) + (1 - alpha)*G**((sigma - 1)/sigma))**(sigma/(sigma - 1))\n",
    "    term2 = nu*L**(1 + epsilon) / (1 + epsilon)\n",
    "    return -((term1**(1 - rho) - 1) / (1 - rho) - term2)\n",
    "\n",
    "# First, solve for L\n",
    "def solve_for_L(w, tau, G):\n",
    "    L0 = 0.5  # Initial guess for L\n",
    "    result = minimize(utility, L0, args=(w, tau, G), bounds=[(0, 24)])\n",
    "    return result.x[0]\n",
    "\n",
    "# Then, solve for G\n",
    "def solve_for_G(tau, w):\n",
    "    G0 = 0.5  # Initial guess for G\n",
    "    result = minimize(lambda G: (G - tau*w*solve_for_L((1 - tau)*w, tau, G))**2, G0, bounds=[(0, None)])\n",
    "    return result.x[0]\n",
    "\n",
    "# Solve the worker problem\n",
    "G_star = solve_for_G(tau, w)\n",
    "L_star = solve_for_L((1 - tau)*w, tau, G_star)\n",
    "\n",
    "print(f\"Optimal labor supply (L*): {L_star}\")\n",
    "print(f\"Optimal public goods level (G*): {G_star}\")\n",
    "\n"
   ]
  },
  {
   "cell_type": "code",
   "execution_count": 8,
   "metadata": {},
   "outputs": [
    {
     "name": "stderr",
     "output_type": "stream",
     "text": [
      "C:\\Users\\andre\\AppData\\Local\\Temp\\ipykernel_44228\\3431970061.py:19: RuntimeWarning: divide by zero encountered in power\n",
      "  return -((term1**(1 - rho) - 1) / (1 - rho) - term2)\n"
     ]
    },
    {
     "name": "stdout",
     "output_type": "stream",
     "text": [
      "Socially optimal tax rate (tau*): 0.9999999999956197\n",
      "Optimal labor supply with socially optimal tax rate (L*): 0.0005943486686080802\n",
      "Optimal public goods level with socially optimal tax rate (G*): 0.0005943657528444067\n"
     ]
    }
   ],
   "source": [
    "#q6\n",
    "# Then, solve for tau\n",
    "def solve_for_tau(w):\n",
    "    tau0 = 0.5  # Initial guess for tau\n",
    "    result = minimize(lambda tau: -utility(solve_for_L((1 - tau)*w, tau, solve_for_G(tau, w)), (1 - tau)*w, tau, solve_for_G(tau, w)), tau0, bounds=[(0, 1)])\n",
    "    return result.x[0]\n",
    "\n",
    "# Solve the problem\n",
    "tau_star = solve_for_tau(w)\n",
    "G_star = solve_for_G(tau_star, w)\n",
    "L_star = solve_for_L((1 - tau_star)*w, tau_star, G_star)\n",
    "\n",
    "print(f\"Socially optimal tax rate (tau*): {tau_star}\")\n",
    "print(f\"Optimal labor supply with socially optimal tax rate (L*): {L_star}\")\n",
    "print(f\"Optimal public goods level with socially optimal tax rate (G*): {G_star}\")"
   ]
  },
  {
   "cell_type": "code",
   "execution_count": 9,
   "metadata": {},
   "outputs": [
    {
     "name": "stdout",
     "output_type": "stream",
     "text": [
      "Optimal labor supply (L*): 11.632564571968045\n",
      "Optimal public goods level (G*): 1.4999994102472225\n"
     ]
    }
   ],
   "source": [
    "import numpy as np\n",
    "from scipy.optimize import minimize\n",
    "\n",
    "# Parameters\n",
    "sigma = 1.5\n",
    "rho = 1.5\n",
    "epsilon = 1.0\n",
    "alpha = 0.5\n",
    "nu = 1/(2 * 16**2)\n",
    "kappa = 1\n",
    "tau = 0.54\n",
    "w = 1  # Assuming wage rate to be 1\n",
    "\n",
    "# Utility function\n",
    "def utility(L, w, tau, G):\n",
    "    C = kappa + (1 - tau)*w*L\n",
    "    term1 = (alpha*C**((sigma - 1)/sigma) + (1 - alpha)*G**((sigma - 1)/sigma))**(sigma/(sigma - 1))\n",
    "    term2 = nu*L**(1 + epsilon) / (1 + epsilon)\n",
    "    return -((term1**(1 - rho) - 1) / (1 - rho) - term2)\n",
    "\n",
    "# First, solve for L\n",
    "def solve_for_L(w, tau, G):\n",
    "    L0 = 0.5  # Initial guess for L\n",
    "    result = minimize(utility, L0, args=(w, tau, G), bounds=[(0, 24)])\n",
    "    return result.x[0]\n",
    "\n",
    "# Then, solve for G\n",
    "def solve_for_G(tau, w):\n",
    "    G0 = 0.5  # Initial guess for G\n",
    "    result = minimize(lambda G: (G - tau*w*solve_for_L((1 - tau)*w, tau, G))**2, G0, bounds=[(0, None)])\n",
    "    return result.x[0]\n",
    "\n",
    "# Solve the worker problem\n",
    "G_star = solve_for_G(tau, w)\n",
    "L_star = solve_for_L((1 - tau)*w, tau, G_star)\n",
    "\n",
    "print(f\"Optimal labor supply (L*): {L_star}\")\n",
    "print(f\"Optimal public goods level (G*): {G_star}\")\n"
   ]
  },
  {
   "cell_type": "code",
   "execution_count": 10,
   "metadata": {},
   "outputs": [
    {
     "name": "stdout",
     "output_type": "stream",
     "text": [
      "Socially optimal tax rate (tau*): 0.5000013491643988\n",
      "Optimal labor supply with socially optimal tax rate (L*): 14.107360834850738\n",
      "Optimal public goods level with socially optimal tax rate (G*): 0.5\n"
     ]
    }
   ],
   "source": [
    "#q6\n",
    "# Then, solve for tau\n",
    "def solve_for_tau(w):\n",
    "    tau0 = 0.5  # Initial guess for tau\n",
    "    result = minimize(lambda tau: -utility(solve_for_L((1 - tau)*w, tau, solve_for_G(tau, w)), (1 - tau)*w, tau, solve_for_G(tau, w)), tau0, bounds=[(0, 1)])\n",
    "    return result.x[0]\n",
    "\n",
    "# Solve the problem\n",
    "tau_star = solve_for_tau(w)\n",
    "G_star = solve_for_G(tau_star, w)\n",
    "L_star = solve_for_L((1 - tau_star)*w, tau_star, G_star)\n",
    "\n",
    "print(f\"Socially optimal tax rate (tau*): {tau_star}\")\n",
    "print(f\"Optimal labor supply with socially optimal tax rate (L*): {L_star}\")\n",
    "print(f\"Optimal public goods level with socially optimal tax rate (G*): {G_star}\")"
   ]
  },
  {
   "cell_type": "code",
   "execution_count": 11,
   "metadata": {},
   "outputs": [
    {
     "name": "stdout",
     "output_type": "stream",
     "text": [
      "Optimal labor supply (L*): 14.107360834850738\n",
      "Optimal public goods level (G*): 0.5\n",
      "Socially optimal tax rate (tau*): 0.5000013491643988\n",
      "Optimal labor supply with socially optimal tax rate (L*): 14.107360834850738\n",
      "Optimal public goods level with socially optimal tax rate (G*): 0.5\n"
     ]
    }
   ],
   "source": [
    "import numpy as np\n",
    "from scipy.optimize import minimize\n",
    "\n",
    "# Parameters\n",
    "sigma = 1.5\n",
    "rho = 1.5\n",
    "epsilon = 1.0\n",
    "alpha = 0.5\n",
    "nu = 1/(2 * 16**2)\n",
    "kappa = 1\n",
    "w = 1  # Assuming wage rate to be 1\n",
    "\n",
    "# Utility function\n",
    "def utility(L, w, tau, G):\n",
    "    C = kappa + (1 - tau)*w*L\n",
    "    term1 = (alpha*C**((sigma - 1)/sigma) + (1 - alpha)*G**((sigma - 1)/sigma))**(sigma/(sigma - 1))\n",
    "    term2 = nu*L**(1 + epsilon) / (1 + epsilon)\n",
    "    return -((term1**(1 - rho) - 1) / (1 - rho) - term2)\n",
    "\n",
    "# First, solve for L\n",
    "def solve_for_L(w, tau, G):\n",
    "    L0 = 0.5  # Initial guess for L\n",
    "    result = minimize(utility, L0, args=(w, tau, G), bounds=[(0, 24)])\n",
    "    return result.x[0]\n",
    "\n",
    "# Then, solve for G\n",
    "def solve_for_G(tau, w):\n",
    "    G0 = 0.5  # Initial guess for G\n",
    "    result = minimize(lambda G: (G - tau*w*solve_for_L((1 - tau)*w, tau, G))**2, G0, bounds=[(0, None)])\n",
    "    return result.x[0]\n",
    "\n",
    "# Then, solve for tau\n",
    "def solve_for_tau(w):\n",
    "    tau0 = 0.5  # Initial guess for tau\n",
    "    result = minimize(lambda tau: -utility(solve_for_L((1 - tau)*w, tau, solve_for_G(tau, w)), (1 - tau)*w, tau, solve_for_G(tau, w)), tau0, bounds=[(0, 1)])\n",
    "    return result.x[0]\n",
    "\n",
    "# Solve the worker problem\n",
    "G_star = solve_for_G(tau_star, w)\n",
    "L_star = solve_for_L((1 - tau_star)*w, tau_star, G_star)\n",
    "\n",
    "# Solve the socially optimal tax rate problem\n",
    "tau_star = solve_for_tau(w)\n",
    "G_star = solve_for_G(tau_star, w)\n",
    "L_star = solve_for_L((1 - tau_star)*w, tau_star, G_star)\n",
    "\n",
    "print(f\"Optimal labor supply (L*): {L_star}\")\n",
    "print(f\"Optimal public goods level (G*): {G_star}\")\n",
    "print(f\"Socially optimal tax rate (tau*): {tau_star}\")\n",
    "print(f\"Optimal labor supply with socially optimal tax rate (L*): {L_star}\")\n",
    "print(f\"Optimal public goods level with socially optimal tax rate (G*): {G_star}\")\n"
   ]
  },
  {
   "attachments": {},
   "cell_type": "markdown",
   "metadata": {},
   "source": [
    "**Question 6:** Find the socially optimal tax rate, $\\tau^{\\star}$, maximizing worker utility, while keeping $G = \\tau w L^{\\star}((1-\\tau)w,G)$."
   ]
  },
  {
   "attachments": {},
   "cell_type": "markdown",
   "metadata": {},
   "source": [
    "As we found in question 5 we now see that the optimal tax rates are also lower when the elasticity of substitution changes. This makes sense as the size of government are directly affected by the tax rate and the optimal tax rates are affected by how easy and effective it is to substitute government consumption for private consumption."
   ]
  },
  {
   "attachments": {},
   "cell_type": "markdown",
   "metadata": {},
   "source": [
    "Se i opg 5."
   ]
  },
  {
   "attachments": {},
   "cell_type": "markdown",
   "metadata": {},
   "source": [
    "In this paper we have combined the questions 5 and 6 into one calculation to make it more clear, we first use numpy to calculate the optimal labour rate and afterwards optimize for G and $\\tau$, we do this for both sets of $\\sigma$ and tho parameters"
   ]
  },
  {
   "attachments": {},
   "cell_type": "markdown",
   "metadata": {},
   "source": [
    "## 2. <a id='toc2_'></a>[Problem 2: Labor adjustment costs](#toc0_)"
   ]
  },
  {
   "attachments": {},
   "cell_type": "markdown",
   "metadata": {},
   "source": [
    "You own a hair salon. You employ hairdressers, $\\ell_t$, to produce haircuts, $y_t = \\ell_t$.\n",
    "\n",
    "The wage for each haridresser is $w$.\n",
    "\n",
    "The demand for haircuts implies that the price of haircuts you can charge is $p_t = \\kappa_t y_t^{-\\eta}$, where $\\kappa_t$ is a demand-shock and $\\eta \\in (0,1)$ measures the elasticity of demand.\n",
    "\n",
    "Profits are:\n",
    "\n",
    "$$\n",
    "\\Pi_t = p_t y_t - w \\ell_t = \\kappa_t \\ell_t^{1-\\eta} - w \\ell_t\n",
    "$$"
   ]
  },
  {
   "attachments": {},
   "cell_type": "markdown",
   "metadata": {},
   "source": [
    "Baseline parameters are:\n",
    "- $\\eta = 0.5$\n",
    "- $w = 1.0$"
   ]
  },
  {
   "attachments": {},
   "cell_type": "markdown",
   "metadata": {},
   "source": [
    "**Question 1:** Verify numerically that $\\ell_{t}=\\left(\\frac{(1-\\eta)\\kappa_{t}}{w}\\right)^{\\frac{1}{\\eta}}$ maximises profits, for $\\kappa\\in\\left\\{1.0 , 2.0\\right\\}$."
   ]
  },
  {
   "attachments": {},
   "cell_type": "markdown",
   "metadata": {},
   "source": [
    "To verify that the above given function  is the correct solution we first solve it analytically using sympy to calculate a simpel optimization."
   ]
  },
  {
   "cell_type": "code",
   "execution_count": 12,
   "metadata": {},
   "outputs": [
    {
     "data": {
      "text/latex": [
       "$\\displaystyle 0 = - w + \\frac{\\ell_{t}^{1 - \\eta} \\kappa_{t} \\left(1 - \\eta\\right)}{\\ell_{t}}$"
      ],
      "text/plain": [
       "Eq(0, -w + ell_t**(1 - eta)*kappa_t*(1 - eta)/ell_t)"
      ]
     },
     "execution_count": 12,
     "metadata": {},
     "output_type": "execute_result"
    }
   ],
   "source": [
    "import sympy as sp\n",
    "\n",
    "ell_t, kappa_t, eta, w = sp.symbols('ell_t kappa_t eta w')\n",
    "\n",
    "Pi_t = kappa_t * ell_t**(1 - eta) - w * ell_t\n",
    "\n",
    "dPi_dell_t = sp.Eq(0,sp.diff(Pi_t, ell_t))\n",
    "dPi_dell_t"
   ]
  },
  {
   "cell_type": "code",
   "execution_count": 13,
   "metadata": {},
   "outputs": [
    {
     "data": {
      "text/latex": [
       "$\\displaystyle \\ell_{t} = \\left(\\frac{\\kappa_{t} \\left(1 - \\eta\\right)}{w}\\right)^{\\frac{1}{\\eta}}$"
      ],
      "text/plain": [
       "Eq(ell_t, (kappa_t*(1 - eta)/w)**(1/eta))"
      ]
     },
     "execution_count": 13,
     "metadata": {},
     "output_type": "execute_result"
    }
   ],
   "source": [
    "optimal_ell_t = sp.solve(dPi_dell_t, ell_t)\n",
    "\n",
    "simplified_eq = sp.Eq(ell_t,(sp.simplify(optimal_ell_t[0])))\n",
    "\n",
    "simplified_eq"
   ]
  },
  {
   "attachments": {},
   "cell_type": "markdown",
   "metadata": {},
   "source": [
    "To confirm that this indeed is the optimal equation for labour for both $\\kappa=1$ and $\\kappa=2$ we maximize profits for both function to see if we find the same optimal employment, this also provides us confirmation numerically that this is the optimal solution."
   ]
  },
  {
   "cell_type": "code",
   "execution_count": 14,
   "metadata": {},
   "outputs": [
    {
     "name": "stdout",
     "output_type": "stream",
     "text": [
      "For kappa = 1.0:\n",
      "The optimal number of hairdressers (ell_t) is: 1.00000000000000\n",
      "The maximum profit is: 0.250000000000000\n",
      "\n",
      "For kappa = 2.0:\n",
      "The optimal number of hairdressers (ell_t) is: 1.00000000000000\n",
      "The maximum profit is: 1.00000000000000\n",
      "\n"
     ]
    }
   ],
   "source": [
    "# Define the profit function\n",
    "profit = kappa_t * ell_t**(1 - eta) - w * ell_t\n",
    "\n",
    "# Set the baseline parameters\n",
    "eta_value = 0.5\n",
    "w_value = 1.0\n",
    "\n",
    "# Calculate the profit for different values of ell_t and verify the maximum\n",
    "kappa_values = [1.0, 2.0]\n",
    "for kappa in kappa_values:\n",
    "    # Calculate the ell_t that maximizes the profit\n",
    "    ell_optimal = sp.solve(sp.diff(profit.subs([(kappa_t, kappa), (eta, eta_value), (w, w_value)]), ell_t), ell_t)[0]\n",
    "    # Calculate the maximum profit\n",
    "    profit_max = profit.subs([(kappa_t, kappa), (eta, eta_value), (w, w_value), (ell_t, ell_optimal)])\n",
    "    \n",
    "    # Ensure ell_optimal is a whole number\n",
    "    ell_optimal = sp.ceiling(ell_optimal)\n",
    "    \n",
    "    # Print the results\n",
    "    print(f'For kappa = {kappa}:')\n",
    "    print(f'The optimal number of hairdressers (ell_t) is: {ell_optimal.evalf()}')\n",
    "    print(f'The maximum profit is: {profit_max.evalf()}\\n')"
   ]
  },
  {
   "cell_type": "code",
   "execution_count": 32,
   "metadata": {},
   "outputs": [
    {
     "name": "stdout",
     "output_type": "stream",
     "text": [
      "Profit at the optimal point: (18+2.449489742783178j)\n",
      "Profit at the neighboring point to the left: (18.03+2.4515301344262523j)\n",
      "Profit at the neighboring point to the right: (17.97+2.4474476501040834j)\n"
     ]
    },
    {
     "ename": "TypeError",
     "evalue": "'>=' not supported between instances of 'complex' and 'complex'",
     "output_type": "error",
     "traceback": [
      "\u001b[1;31m---------------------------------------------------------------------------\u001b[0m",
      "\u001b[1;31mTypeError\u001b[0m                                 Traceback (most recent call last)",
      "Cell \u001b[1;32mIn[32], line 24\u001b[0m\n\u001b[0;32m     21\u001b[0m \u001b[39mprint\u001b[39m(\u001b[39m\"\u001b[39m\u001b[39mProfit at the neighboring point to the left:\u001b[39m\u001b[39m\"\u001b[39m, profit_left)\n\u001b[0;32m     22\u001b[0m \u001b[39mprint\u001b[39m(\u001b[39m\"\u001b[39m\u001b[39mProfit at the neighboring point to the right:\u001b[39m\u001b[39m\"\u001b[39m, profit_right)\n\u001b[1;32m---> 24\u001b[0m \u001b[39mif\u001b[39;00m profit_optimal \u001b[39m>\u001b[39;49m\u001b[39m=\u001b[39;49m profit_left \u001b[39mand\u001b[39;00m profit_optimal \u001b[39m>\u001b[39m\u001b[39m=\u001b[39m profit_right:\n\u001b[0;32m     25\u001b[0m     \u001b[39mprint\u001b[39m(\u001b[39m\"\u001b[39m\u001b[39mThe optimal point maximizes profits.\u001b[39m\u001b[39m\"\u001b[39m)\n\u001b[0;32m     26\u001b[0m \u001b[39melse\u001b[39;00m:\n",
      "\u001b[1;31mTypeError\u001b[0m: '>=' not supported between instances of 'complex' and 'complex'"
     ]
    }
   ],
   "source": [
    "import numpy as np\n",
    "\n",
    "w = 3\n",
    "kappa_t = 1\n",
    "eta = 0.5\n",
    "\n",
    "optimal_ell_t = w / (kappa_t * (eta - 1))\n",
    "\n",
    "def calculate_profit(ell_t):\n",
    "    return kappa_t * ell_t**(1 - eta) - w * ell_t\n",
    "\n",
    "profit_optimal = calculate_profit(optimal_ell_t)\n",
    "\n",
    "ell_t_left = optimal_ell_t - 0.01  # Neighboring point to the left\n",
    "ell_t_right = optimal_ell_t + 0.01  # Neighboring point to the right\n",
    "\n",
    "profit_left = calculate_profit(ell_t_left)\n",
    "profit_right = calculate_profit(ell_t_right)\n",
    "\n",
    "print(\"Profit at the optimal point:\", profit_optimal)\n",
    "print(\"Profit at the neighboring point to the left:\", profit_left)\n",
    "print(\"Profit at the neighboring point to the right:\", profit_right)\n",
    "\n",
    "if profit_optimal >= profit_left and profit_optimal >= profit_right:\n",
    "    print(\"The optimal point maximizes profits.\")\n",
    "else:\n",
    "    print(\"The optimal point does not maximize profits.\")\n",
    "\n"
   ]
  },
  {
   "attachments": {},
   "cell_type": "markdown",
   "metadata": {},
   "source": [
    "We now consider a *dynamic* version of the model.\n",
    "\n",
    "* The demand-shock is a so-called AR(1) in logs, \n",
    "\n",
    "$$\n",
    "\\log \\kappa_{t} = \\rho \\log \\kappa_{t-1} + \\epsilon_{t},\\,\\,\\, \\epsilon_{t+1} \\sim \\mathcal{N}(-0.5\\sigma_{\\epsilon}^2,\\sigma_{\\epsilon})\n",
    "$$\n",
    "\n",
    "* Any hiring or firing implies a fixed adjustment cost, $\\iota > 0 $.\n",
    "* Future profits are discounted with a monthly factor of $R \\in (0,1)$.\n",
    "\n",
    "The initial demand shock is $\\kappa_{-1} = 1$ and the planning horizon is 10 years, i.e. 120 months so $t \\in \\{0,1,2,\\dots,119\\}$. Initially you don't have any employees, $\\ell_{-1}=0$"
   ]
  },
  {
   "attachments": {},
   "cell_type": "markdown",
   "metadata": {},
   "source": [
    "\n",
    "The *ex post* value of the salon is *conditional* on the shock series is:\n",
    "\n",
    "$$\n",
    "h(\\epsilon_0,\\epsilon_1,\\dots,\\epsilon_{119}) = \\left[\\sum_{t=0}^{119}R^{-t}\\left[\\kappa_{t}\\ell_{t}^{1-\\eta}-w\\ell_{t}-\\boldsymbol{1}_{\\ell_{t}\\neq\\ell_{t-1}}\\iota\\right]\\right]\n",
    "$$\n",
    "\n",
    "The *ex ante* expected value of the salon can be approximated by\n",
    "\n",
    "$$\n",
    "H = \\mathbb{E}[h(\\epsilon_0,\\epsilon_1,\\dots,\\epsilon_{119})] \\approx \\frac{1}{K}\\sum_{k=0}^{K} h(\\epsilon_0^k,\\epsilon_1^k,\\dots,\\epsilon_{119}^k)\n",
    "$$\n",
    "\n",
    "where each $k\\in\\{0,1,\\dots,K-1\\}$ is a random shock series. Maximizing profitability means maximizing $H$.\n"
   ]
  },
  {
   "attachments": {},
   "cell_type": "markdown",
   "metadata": {},
   "source": [
    "Baseline parameters are: \n",
    "\n",
    "- $\\rho = 0.90$\n",
    "- $\\iota = 0.01$\n",
    "- $\\sigma_{\\epsilon} = 0.10$\n",
    "- $R = \\left(1+0.01\\right)^{1/12}$"
   ]
  },
  {
   "attachments": {},
   "cell_type": "markdown",
   "metadata": {},
   "source": [
    "**Question 2:** Calculate $H$ if the policy  $\\ell_{t}=\\left(\\frac{(1-\\eta)\\kappa_{t}}{w}\\right)^{\\frac{1}{\\eta}}$ from question 1 is followed. Choose $K$ so the approximation is good enough to not affect your results substantially."
   ]
  },
  {
   "cell_type": "code",
   "execution_count": 15,
   "metadata": {},
   "outputs": [
    {
     "name": "stdout",
     "output_type": "stream",
     "text": [
      "27.693592041332398\n"
     ]
    }
   ],
   "source": [
    "import numpy as np\n",
    "\n",
    "# Define the baseline parameters\n",
    "rho = 0.90\n",
    "iota = 0.01\n",
    "sigma_epsilon = 0.10\n",
    "R = (1+0.01)**(1/12)\n",
    "eta = 0.5  \n",
    "w = 1  \n",
    "T = 120    # The number of periods\n",
    "K = 10000  # The number of shock series for Monte Carlo approximation.\n",
    "# Initialize the array to store the values of h for each shock series\n",
    "h_values = np.zeros(K)\n",
    "\n",
    "# Generate K shock series\n",
    "np.random.seed(0)  # for reproducibility\n",
    "shock_series = np.random.normal(loc=-0.5*sigma_epsilon**2, scale=sigma_epsilon, size=(K, T))\n",
    "\n",
    "# Loop over the shock series\n",
    "for k in range(K):\n",
    "    # Initialize kappa and l\n",
    "    kappa = np.zeros(T)\n",
    "    kappa[0] = np.exp(rho * np.log(1) + shock_series[k, 0])  # initial kappa\n",
    "    l = np.zeros(T)\n",
    "    l[0] = ((1-eta)*kappa[0]/w)**(1/eta)  # initial l\n",
    "    \n",
    "    # Calculate l_t and kappa_t for t = 1, ..., T-1\n",
    "    for t in range(1, T):\n",
    "        kappa[t] = np.exp(rho * np.log(kappa[t-1]) + shock_series[k, t])\n",
    "        l[t] = ((1-eta)*kappa[t]/w)**(1/eta)\n",
    "    \n",
    "    # Calculate h for this shock series\n",
    "    adjustment_cost = iota * np.sum(l[1:] != l[:-1])\n",
    "    profit = np.sum((kappa * l**(1-eta) - w * l) * R**-np.arange(T)) - adjustment_cost\n",
    "    h_values[k] = profit\n",
    "\n",
    "# The ex-ante expected value H is the average of these values\n",
    "H = np.mean(h_values)\n",
    "print(H)"
   ]
  },
  {
   "attachments": {},
   "cell_type": "markdown",
   "metadata": {},
   "source": [
    "We have chosen to run 10.000 simulations to get an aproximate result, we find a expected value of the hairdressers bussiness to be 27,69 ofc given small changes caused by the random shocks. To reproduce we have seeded our simulation."
   ]
  },
  {
   "attachments": {},
   "cell_type": "markdown",
   "metadata": {},
   "source": [
    "Next, we consider policies on the form:\n",
    "\n",
    "$$\n",
    "\n",
    "\\ell_{t}=\\begin{cases}\n",
    "\\ell_t^{\\ast}  & \\text{if }\\left|\\ell_{t-1}-\\ell_t^{\\ast} \\right|>\\Delta\\\\\n",
    "\\ell_{t-1} & \\text{else }\n",
    "\\end{cases}\n",
    "\\\\\n",
    "\\text{where}\\,\\,\\ell_t^{\\ast} = \\left(\\frac{(1-\\eta)\\kappa_{t}}{w}\\right)^{\\frac{1}{\\eta}} \\\\\n",
    "\n",
    "$$\n",
    "With $\\Delta \\geq 0$ and $\\Delta = 0$ being the previous policy.\n"
   ]
  },
  {
   "attachments": {},
   "cell_type": "markdown",
   "metadata": {},
   "source": [
    "\n",
    "**Question 3:** Calculate $H$ if the policy above was followed with $\\Delta = 0.05$. Does it improve profitability?"
   ]
  },
  {
   "cell_type": "code",
   "execution_count": 16,
   "metadata": {},
   "outputs": [],
   "source": [
    "import numpy as np\n",
    "\n",
    "# Define the baseline parameters\n",
    "rho = 0.90\n",
    "iota = 0.01\n",
    "sigma_epsilon = 0.10\n",
    "R = (1+0.01)**(1/12)\n",
    "eta = 0.5\n",
    "w = 1.0   \n",
    "T = 120    # The number of periods\n",
    "K = 10000  # The number of shock series for Monte Carlo approximation.\n",
    "\n",
    "# Initialize the array to store the values of h for each shock series\n",
    "h_values = np.zeros(K)\n",
    "\n",
    "# Generate K shock series\n",
    "np.random.seed(0)  # for reproducibility\n",
    "shock_series = np.random.normal(loc=-0.5*sigma_epsilon**2, scale=sigma_epsilon, size=(K, T))\n",
    "\n",
    "# Loop over the shock series\n",
    "for k in range(K):\n",
    "    # Initialize kappa and l\n",
    "    kappa = np.zeros(T)\n",
    "    kappa[0] = np.exp(rho * np.log(1) + shock_series[k, 0])  # initial kappa\n",
    "    l = np.zeros(T)\n",
    "    l_star_initial = ((1-eta)*kappa[0]/w)**(1/eta)\n",
    "    l[0] = l_star_initial  # initial l\n",
    "\n",
    "    # Calculate l_t and kappa_t for t = 1, ..., T-1\n",
    "    for t in range(1, T):\n",
    "        kappa[t] = np.exp(rho * np.log(kappa[t-1]) + shock_series[k, t])\n",
    "        l_star = ((1-eta)*kappa[t]/w)**(1/eta)\n",
    "        # Update l[t] based on the policy\n",
    "        if np.abs(l[t-1] - l_star) > 0.05:\n",
    "            l[t] = l_star\n",
    "        else:\n",
    "            l[t] = l[t-1]\n",
    "\n",
    "    \n",
    "    # Calculate h for this shock series\n",
    "    adjustment_cost = iota * np.sum(l[1:] != l[:-1])\n",
    "    profit = np.sum((kappa * l**(1-eta) - w * l) * R**-np.arange(T)) - adjustment_cost\n",
    "    h_values[k] = profit\n",
    "\n",
    "# The ex-ante expected value H is the average of these values\n",
    "H_new_policy = np.mean(h_values)\n",
    "\n",
    "# Compare with the previous policy\n",
    "profitability_improvement = H_new_policy - H\n"
   ]
  },
  {
   "cell_type": "code",
   "execution_count": 17,
   "metadata": {},
   "outputs": [
    {
     "name": "stdout",
     "output_type": "stream",
     "text": [
      "28.411887191796524\n",
      "0.718295150464126\n"
     ]
    }
   ],
   "source": [
    "print(H_new_policy)\n",
    "print(profitability_improvement)"
   ]
  },
  {
   "attachments": {},
   "cell_type": "markdown",
   "metadata": {},
   "source": [
    "We find a slight yet significant improvement in profitability caused by the new policy. This can be explained by that by not adjusting employment under small productivity shocks, the company does not have to face frequent adjustments costs. "
   ]
  },
  {
   "attachments": {},
   "cell_type": "markdown",
   "metadata": {},
   "source": [
    "**Question 4:** Find the optimal $\\Delta$ maximizing $H$. Illustrate your result."
   ]
  },
  {
   "cell_type": "code",
   "execution_count": 7,
   "metadata": {},
   "outputs": [
    {
     "data": {
      "image/png": "[encoded data removed]",
      "text/plain": [
       "<Figure size 1000x600 with 1 Axes>"
      ]
     },
     "metadata": {},
     "output_type": "display_data"
    },
    {
     "name": "stdout",
     "output_type": "stream",
     "text": [
      "The optimal Delta that maximizes H is 0.08\n"
     ]
    }
   ],
   "source": [
    "import numpy as np\n",
    "import matplotlib.pyplot as plt\n",
    "\n",
    "# Define the range of Delta values to test\n",
    "Delta_values = np.arange(0, 0.51, 0.01)\n",
    "H_values = np.zeros(len(Delta_values))\n",
    "\n",
    "for i, Delta in enumerate(Delta_values):\n",
    "    h_values = np.zeros(K)\n",
    "    for k in range(K):\n",
    "        # Initialize kappa and l\n",
    "        kappa = np.zeros(T)\n",
    "        kappa[0] = np.exp(rho * np.log(1) + shock_series[k, 0])  # initial kappa\n",
    "        l = np.zeros(T)\n",
    "        l_star_initial = ((1-eta)*kappa[0]/w)**(1/eta)\n",
    "        l[0] = l_star_initial  # initial l\n",
    "\n",
    "        # Calculate l_t and kappa_t for t = 1, ..., T-1\n",
    "        for t in range(1, T):\n",
    "            kappa[t] = np.exp(rho * np.log(kappa[t-1]) + shock_series[k, t])\n",
    "            l_star = ((1-eta)*kappa[t]/w)**(1/eta)\n",
    "            # Update l[t] based on the policy\n",
    "            if np.abs(l[t-1] - l_star) > Delta:\n",
    "                l[t] = l_star\n",
    "            else:\n",
    "                l[t] = l[t-1]\n",
    "\n",
    "        # Calculate h for this shock series\n",
    "        adjustment_cost = iota * np.sum(l[1:] != l[:-1])\n",
    "        profit = np.sum((kappa * l**(1-eta) - w * l) * R**-np.arange(T)) - adjustment_cost\n",
    "        h_values[k] = profit\n",
    "\n",
    "    # The ex-ante expected value H is the average of these values\n",
    "    H_values[i] = np.mean(h_values)\n",
    "\n",
    "# Plot H against Delta\n",
    "plt.figure(figsize=(10, 6))\n",
    "plt.plot(Delta_values, H_values, label='H')\n",
    "plt.xlabel(r'$\\Delta$')\n",
    "plt.ylabel('H')\n",
    "plt.title('H vs $\\Delta$')\n",
    "plt.legend()\n",
    "plt.grid(True)\n",
    "plt.show()\n",
    "\n",
    "# Find the Delta value that maximizes H\n",
    "optimal_Delta = Delta_values[np.argmax(H_values)]\n",
    "print(f'The optimal Delta that maximizes H is {optimal_Delta}')\n"
   ]
  },
  {
   "attachments": {},
   "cell_type": "markdown",
   "metadata": {},
   "source": [
    "This code is quite slow to run, however to effectively calculate and save the deltas over several simulations we have not found an effective way to optimize it while still answering the question. We now calculate the profits using this new rule"
   ]
  },
  {
   "cell_type": "code",
   "execution_count": 5,
   "metadata": {},
   "outputs": [
    {
     "data": {
      "text/plain": [
       "28.47623127025638"
      ]
     },
     "execution_count": 5,
     "metadata": {},
     "output_type": "execute_result"
    }
   ],
   "source": [
    "import numpy as np\n",
    "\n",
    "# Define the baseline parameters\n",
    "rho = 0.90\n",
    "iota = 0.01\n",
    "sigma_epsilon = 0.10\n",
    "R = (1+0.01)**(1/12)\n",
    "eta = 0.5\n",
    "w = 1.0   \n",
    "T = 120    # The number of periods\n",
    "K = 10000  # The number of shock series for Monte Carlo approximation.\n",
    "\n",
    "# Initialize the array to store the values of h for each shock series\n",
    "h_values = np.zeros(K)\n",
    "\n",
    "# Generate K shock series\n",
    "np.random.seed(0)  # for reproducibility\n",
    "shock_series = np.random.normal(loc=-0.5*sigma_epsilon**2, scale=sigma_epsilon, size=(K, T))\n",
    "\n",
    "# Loop over the shock series\n",
    "for k in range(K):\n",
    "    # Initialize kappa and l\n",
    "    kappa = np.zeros(T)\n",
    "    kappa[0] = np.exp(rho * np.log(1) + shock_series[k, 0])  # initial kappa\n",
    "    l = np.zeros(T)\n",
    "    l_star_initial = ((1-eta)*kappa[0]/w)**(1/eta)\n",
    "    l[0] = l_star_initial  # initial l\n",
    "\n",
    "    # Calculate l_t and kappa_t for t = 1, ..., T-1\n",
    "    for t in range(1, T):\n",
    "        kappa[t] = np.exp(rho * np.log(kappa[t-1]) + shock_series[k, t])\n",
    "        l_star = ((1-eta)*kappa[t]/w)**(1/eta)\n",
    "        # Update l[t] based on the policy\n",
    "        if np.abs(l[t-1] - l_star) > 0.08:\n",
    "            l[t] = l_star\n",
    "        else:\n",
    "            l[t] = l[t-1]\n",
    "\n",
    "    \n",
    "    # Calculate h for this shock series\n",
    "    adjustment_cost = iota * np.sum(l[1:] != l[:-1])\n",
    "    profit = np.sum((kappa * l**(1-eta) - w * l) * R**-np.arange(T)) - adjustment_cost\n",
    "    h_values[k] = profit\n",
    "\n",
    "# The ex-ante expected value H is the average of these values\n",
    "H_opt_policy = np.mean(h_values)\n",
    "H_opt_policy"
   ]
  },
  {
   "attachments": {},
   "cell_type": "markdown",
   "metadata": {},
   "source": [
    "\n",
    "**Question 5:** Suggest an alternative policy you believe might improve profitability. Implement and test your policy.\n",
    "\n"
   ]
  },
  {
   "attachments": {},
   "cell_type": "markdown",
   "metadata": {},
   "source": [
    "We aim to improve profitability by taking into account the average shocks over the last 5 time periods, instead of just the previous one. The thought is that the model would be less sensitive to a recent erratic change/shock that may be uncharacteristic of the market. This would avoid making changes based on a possible short-term demand-shock."
   ]
  },
  {
   "cell_type": "code",
   "execution_count": 6,
   "metadata": {},
   "outputs": [
    {
     "ename": "NameError",
     "evalue": "name 'H' is not defined",
     "output_type": "error",
     "traceback": [
      "\u001b[1;31m---------------------------------------------------------------------------\u001b[0m",
      "\u001b[1;31mNameError\u001b[0m                                 Traceback (most recent call last)",
      "Cell \u001b[1;32mIn[6], line 40\u001b[0m\n\u001b[0;32m     37\u001b[0m     h_values[k] \u001b[39m=\u001b[39m profit\n\u001b[0;32m     39\u001b[0m H_own_policy \u001b[39m=\u001b[39m np\u001b[39m.\u001b[39mmean(h_values)\n\u001b[1;32m---> 40\u001b[0m profitability_improvement \u001b[39m=\u001b[39m H_own_policy \u001b[39m-\u001b[39m H\n",
      "\u001b[1;31mNameError\u001b[0m: name 'H' is not defined"
     ]
    }
   ],
   "source": [
    "import statistics\n",
    "rho = 0.90\n",
    "iota = 0.01\n",
    "sigma_epsilon = 0.10\n",
    "R = (1+0.01)**(1/12)\n",
    "eta = 0.5\n",
    "w = 1.0   \n",
    "T = 120    \n",
    "K = 10000  \n",
    "\n",
    "h_values = np.zeros(K)\n",
    "\n",
    "np.random.seed(0)  \n",
    "shock_series = np.random.normal(loc=-0.5*sigma_epsilon**2, scale=sigma_epsilon, size=(K, T))\n",
    "\n",
    "data = (l[t-1],l[t-2],l[t-3],l[t-4],l[t-5])\n",
    "t5 = np.mean(data)\n",
    "\n",
    "for k in range(K):\n",
    "    kappa = np.zeros(T)\n",
    "    kappa[0] = np.exp(rho * np.log(1) + shock_series[k, 0])  \n",
    "    l = np.zeros(T)\n",
    "    l_star_initial = ((1-eta)*kappa[0]/w)**(1/eta)\n",
    "    l[0] = l_star_initial  \n",
    "\n",
    "    for t in range(1, T):\n",
    "        kappa[t] = np.exp(rho * np.log(kappa[t-1]) + shock_series[k, t])\n",
    "        l_star = ((1-eta)*kappa[t]/w)**(1/eta)\n",
    "        if np.abs(t5 - l_star) > 0.05:\n",
    "            l[t] = l_star\n",
    "        else:\n",
    "            l[t] = t5\n",
    "\n",
    "        adjustment_cost = iota * np.sum(l[1:] != l[:-1])\n",
    "    profit = np.sum((kappa * l**(1-eta) - w * l) * R**-np.arange(T)) - adjustment_cost\n",
    "    h_values[k] = profit\n",
    "\n",
    "H_own_policy = np.mean(h_values)\n",
    "profitability_improvement = H_own_policy - H"
   ]
  },
  {
   "cell_type": "code",
   "execution_count": 21,
   "metadata": {},
   "outputs": [
    {
     "name": "stdout",
     "output_type": "stream",
     "text": [
      "27.978862052307864\n",
      "0.28527001097546645\n"
     ]
    }
   ],
   "source": [
    "print(H_own_policy)\n",
    "print(profitability_improvement)"
   ]
  },
  {
   "cell_type": "code",
   "execution_count": 22,
   "metadata": {},
   "outputs": [
    {
     "name": "stdout",
     "output_type": "stream",
     "text": [
      "╒════════════════╤══════════════════╕\n",
      "│ Simulation     │   Expected value │\n",
      "╞════════════════╪══════════════════╡\n",
      "│ Delta= 0       │          27.6936 │\n",
      "├────────────────┼──────────────────┤\n",
      "│ Delta=0.05     │          28.4119 │\n",
      "├────────────────┼──────────────────┤\n",
      "│ Delta=0.08     │          28.4762 │\n",
      "├────────────────┼──────────────────┤\n",
      "│ Delta over 5 t │          27.9789 │\n",
      "╘════════════════╧══════════════════╛\n"
     ]
    }
   ],
   "source": [
    "from tabulate import tabulate\n",
    "results = [\n",
    "    [\"Delta= 0\", H],\n",
    "    [\"Delta=0.05\", H_new_policy],\n",
    "    [\"Delta=0.08\", H_opt_policy],\n",
    "    [\"Delta over 5 t\", H_own_policy]\n",
    "]\n",
    "headers = [\"Simulation\", \"Expected value\", ]\n",
    "table = tabulate(results, headers, tablefmt=\"fancy_grid\")\n",
    "print(table)"
   ]
  },
  {
   "attachments": {},
   "cell_type": "markdown",
   "metadata": {},
   "source": [
    "We find that by calculating delta over 5 periods to sort out smaller shocks, the expected value of the company is higher than allways adjusting however its lower than using the policy of delta=0.5 as we might adjust too little with this new policy. As we see in figure 4 the optimal policy for delta is 0.08 which also has a higher evaluation than adjusting to shocks over 5 periods. "
   ]
  },
  {
   "attachments": {},
   "cell_type": "markdown",
   "metadata": {},
   "source": [
    "## 3. <a id='toc3_'></a>[Problem 3: Global optimizer with refined multi-start](#toc0_)"
   ]
  },
  {
   "attachments": {},
   "cell_type": "markdown",
   "metadata": {},
   "source": [
    "We consider the Griewank function:\n",
    "\n",
    "$$ f(\\boldsymbol{x}) = \\sum^n_{i=1} \\frac{x^2_i}{4000}-\\prod^n_{i=1}\\cos\\left(\\frac{x_i}{\\sqrt{i}}\\right)+1$$\n",
    "\n",
    "The **global minimum** of this function is $f(0,0) = 0$ (remember: $\\cos(0)=1$).<br>\n",
    "But the function also have a lot of **local minima**."
   ]
  },
  {
   "cell_type": "code",
   "execution_count": 4,
   "metadata": {},
   "outputs": [],
   "source": [
    "def griewank(x):\n",
    "    return griewank_(x[0],x[1])\n",
    "    \n",
    "def griewank_(x1,x2):\n",
    "    A = x1**2/4000 + x2**2/4000\n",
    "    B = np.cos(x1/np.sqrt(1))*np.cos(x2/np.sqrt(2))\n",
    "    return A-B+1"
   ]
  },
  {
   "attachments": {},
   "cell_type": "markdown",
   "metadata": {},
   "source": [
    "A **refined global optimizer with multi-start** is:\n",
    "\n",
    "1. Choose *bounds* for $\\mathbf{x}$ and *tolerance* $\\tau > 0$.\n",
    "2. Choose number of *warm-up iterations*, $\\underline{K} > 0$ and *maximum number of iterations*, $K > \\underline{K}$.\n",
    "3. In each iteration for $k \\in \\{0,1,\\dots,K-1\\}$:\n",
    "\n",
    "    A. Draw random $\\mathbf{x}^k$ uniformly within chosen bounds.\n",
    "\n",
    "    B. If $k < \\underline{K}$ go to step E.\n",
    "\n",
    "    C. Calculate $\\chi^k = 0.50\\cdot\\frac{2}{1+\\exp((k-\\underline{K})/100)}$  \n",
    "\n",
    "    D. Set $\\mathbf{x}^{k0} = \\chi^k \\mathbf{x}^k + (1-\\chi^k)\\mathbf{x}^{\\ast} $\n",
    "\n",
    "    E. Run optimizer with $\\mathbf{x}^{k0}$ as initial guess and $\\mathbf{x}^{k\\ast}$ as result.\n",
    "\n",
    "    F. Set $\\mathbf{x}^{\\ast} = \\mathbf{x}^{k\\ast}$ if $k = 0$ or $f(\\mathbf{x}^{k\\ast}) < f(\\mathbf{x}^{\\ast})$\n",
    "\n",
    "    G. If $f(\\mathbf{x}^{\\ast}) < \\tau$ go to step 4.\n",
    "\n",
    "4. Return the result $\\mathbf{x}^{\\ast}$."
   ]
  },
  {
   "attachments": {},
   "cell_type": "markdown",
   "metadata": {},
   "source": [
    "As settings we choose:\n",
    "\n",
    "* $x_1,x_2 \\in  [-600,600]$\n",
    "* $\\tau = 10^{-8}$\n",
    "* $\\underline{K}=10$\n",
    "* $K=1000$\n",
    "\n",
    "The optimizer in Step 3.E is `BFGS` with a tolerance of $\\tau$."
   ]
  },
  {
   "attachments": {},
   "cell_type": "markdown",
   "metadata": {},
   "source": [
    "**Question 1:** Implement the refined global optimizer with multi-start. Illustrate how the effective initial guesses $\\mathbf{x}^{k0}$ vary with the iteration counter $k$."
   ]
  },
  {
   "cell_type": "code",
   "execution_count": 5,
   "metadata": {},
   "outputs": [
    {
     "name": "stdout",
     "output_type": "stream",
     "text": [
      "Average number of iterations: 317.99\n"
     ]
    },
    {
     "data": {
      "image/png": "[encoded data removed]",
      "text/plain": [
       "<Figure size 640x480 with 1 Axes>"
      ]
     },
     "metadata": {},
     "output_type": "display_data"
    }
   ],
   "source": [
    "import numpy as np\n",
    "import matplotlib.pyplot as plt\n",
    "np.random.seed(0)\n",
    "def objective_function(x):\n",
    "    return griewank([x[0], x[1]])\n",
    "\n",
    "def griewank(x):\n",
    "    return griewank_(x[0], x[1])\n",
    "\n",
    "def griewank_(x1, x2):\n",
    "    A = x1 ** 2 / 4000 + x2 ** 2 / 4000\n",
    "    B = np.cos(x1 / np.sqrt(1)) * np.cos(x2 / np.sqrt(2))\n",
    "    return A - B + 1\n",
    "\n",
    "def refined_global_optimizer(bounds, tau, K_warmup, K, optimizer):\n",
    "    x_star = None\n",
    "    x0_values = []\n",
    "    for k in range(K):\n",
    "        x_k = np.random.uniform(bounds[0], bounds[1], size=2)\n",
    "        \n",
    "        if k >= K_warmup:\n",
    "            chi_k = 0.50 * (2 / (1 + np.exp((k - K_warmup) / 100)))\n",
    "            x_k0 = chi_k * x_k + (1 - chi_k) * x_star\n",
    "        else:\n",
    "            x_k0 = x_k\n",
    "        \n",
    "        res = minimize(objective_function, x_k0, method=optimizer, tol=tau)\n",
    "        x_k_star = res.x\n",
    "        \n",
    "        if x_star is None or objective_function(x_k_star) < objective_function(x_star):\n",
    "            x_star = x_k_star\n",
    "        \n",
    "        x0_values.append(x_k0)\n",
    "\n",
    "        if objective_function(x_star) < tau:\n",
    "            break\n",
    "    \n",
    "    return x_star, x0_values, k+1\n",
    "\n",
    "bounds = [-600, 600]\n",
    "tau = 1e-8\n",
    "K_warmup = 10\n",
    "K = 1000\n",
    "optimizer = 'BFGS'\n",
    "num_runs = 100\n",
    "\n",
    "iterations_list = []\n",
    "\n",
    "for _ in range(num_runs):\n",
    "    _, _, iterations = refined_global_optimizer(bounds, tau, K_warmup, K, optimizer)\n",
    "    iterations_list.append(iterations)\n",
    "\n",
    "avg_iterations = np.mean(iterations_list)\n",
    "\n",
    "print(f\"Average number of iterations: {avg_iterations}\")\n",
    "\n",
    "x_star, x0_values, iterations = refined_global_optimizer(bounds, tau, K_warmup, K, optimizer)\n",
    "x0_values = np.array(x0_values)\n",
    "x1_values = x0_values[:, 0]\n",
    "x2_values = x0_values[:, 1]\n",
    "\n",
    "plt.scatter(range(len(x1_values)), x1_values, c='blue', label='x1')\n",
    "plt.scatter(range(len(x2_values)), x2_values, c='green', label='x2')\n",
    "plt.xlabel('Iteration')\n",
    "plt.ylabel('Value')\n",
    "plt.title(f'Variation of Effective Initial Guesses (K_warmup = {K_warmup})')\n",
    "plt.legend()\n",
    "plt.grid(True)\n",
    "plt.text(0.5, 0.9, f'Iterations: {iterations}', transform=plt.gca().transAxes, ha='center', va='center', fontsize=12)\n",
    "\n",
    "plt.show()\n"
   ]
  },
  {
   "attachments": {},
   "cell_type": "markdown",
   "metadata": {},
   "source": [
    "The Griewank function is a function with an abundant amount of local maxima and minima making it an optimal function to test seaching algoritithm to see if they identify the correct maximum point. In this scenario the true minima which our algorithm seaches for is 0, and as we can see in figure XX after around 350 iterations we aproximate the actual minimum of 0. To give a more robust evaluation of the algorithm we run it a 100 times and calculate the average number of iterations needed before hitting the 0 point, we calculate this number to be 317.99 at seed (0)"
   ]
  },
  {
   "attachments": {},
   "cell_type": "markdown",
   "metadata": {},
   "source": [
    "**Question 2:** Is it a better idea to set $\\underline{K} = 100$? Is the convergence faster?"
   ]
  },
  {
   "attachments": {},
   "cell_type": "markdown",
   "metadata": {},
   "source": [
    "By increasing the number of warmup iterations we increase the number of times the algortithm runs before adjusting for each initial guess, thus giving us a tradeoff in algoriithm effectiveness by \"sacrifizing\" more unadjusted guesses to train to the algorithm to be more effective in the guesses afterwards. To test this we run the algorithm a 100 times and calculate the average number of iterations needed for each algorithm before hitting the 0 point to better compare the effectiveness."
   ]
  },
  {
   "cell_type": "code",
   "execution_count": 52,
   "metadata": {},
   "outputs": [
    {
     "name": "stdout",
     "output_type": "stream",
     "text": [
      "Average number of iterations: 404.81\n"
     ]
    },
    {
     "data": {
      "image/png": "[encoded data removed]",
      "text/plain": [
       "<Figure size 640x480 with 1 Axes>"
      ]
     },
     "metadata": {},
     "output_type": "display_data"
    }
   ],
   "source": [
    "import numpy as np\n",
    "import matplotlib.pyplot as plt\n",
    "np.random.seed(0)\n",
    "\n",
    "\n",
    "def objective_function(x):\n",
    "    return griewank([x[0], x[1]])\n",
    "\n",
    "def griewank(x):\n",
    "    return griewank_(x[0], x[1])\n",
    "\n",
    "def griewank_(x1, x2):\n",
    "    A = x1 ** 2 / 4000 + x2 ** 2 / 4000\n",
    "    B = np.cos(x1 / np.sqrt(1)) * np.cos(x2 / np.sqrt(2))\n",
    "    return A - B + 1\n",
    "\n",
    "def refined_global_optimizer(bounds, tau, K_warmup, K, optimizer):\n",
    "    x_star = None\n",
    "    x0_values = []\n",
    "    for k in range(K):\n",
    "        x_k = np.random.uniform(bounds[0], bounds[1], size=2)\n",
    "        \n",
    "        if k >= K_warmup:\n",
    "            chi_k = 0.50 * (2 / (1 + np.exp((k - K_warmup) / 100)))\n",
    "            x_k0 = chi_k * x_k + (1 - chi_k) * x_star\n",
    "        else:\n",
    "            x_k0 = x_k\n",
    "        \n",
    "        res = minimize(objective_function, x_k0, method=optimizer, tol=tau)\n",
    "        x_k_star = res.x\n",
    "        \n",
    "        if x_star is None or objective_function(x_k_star) < objective_function(x_star):\n",
    "            x_star = x_k_star\n",
    "        \n",
    "        x0_values.append(x_k0)\n",
    "\n",
    "        if objective_function(x_star) < tau:\n",
    "            break\n",
    "    \n",
    "    return x_star, x0_values, k+1\n",
    "\n",
    "bounds = [-600, 600]\n",
    "tau = 1e-8\n",
    "K_warmup = 100\n",
    "K = 1000\n",
    "optimizer = 'BFGS'\n",
    "num_runs = 100\n",
    "\n",
    "iterations_list = []\n",
    "\n",
    "for _ in range(num_runs):\n",
    "    _, _, iterations = refined_global_optimizer(bounds, tau, K_warmup, K, optimizer)\n",
    "    iterations_list.append(iterations)\n",
    "\n",
    "avg_iterations = np.mean(iterations_list)\n",
    "\n",
    "print(f\"Average number of iterations: {avg_iterations}\")\n",
    "\n",
    "x_star, x0_values, iterations = refined_global_optimizer(bounds, tau, K_warmup, K, optimizer)\n",
    "x0_values = np.array(x0_values)\n",
    "x1_values = x0_values[:, 0]\n",
    "x2_values = x0_values[:, 1]\n",
    "\n",
    "plt.scatter(range(len(x1_values)), x1_values, c='blue', label='x1')\n",
    "plt.scatter(range(len(x2_values)), x2_values, c='green', label='x2')\n",
    "plt.xlabel('Iteration')\n",
    "plt.ylabel('Value')\n",
    "plt.title(f'Variation of Effective Initial Guesses (K_warmup = {K_warmup})')\n",
    "plt.legend()\n",
    "plt.grid(True)\n",
    "plt.text(0.5, 0.9, f'Iterations: {iterations}', transform=plt.gca().transAxes, ha='center', va='center', fontsize=12)\n",
    "\n",
    "plt.show()\n"
   ]
  },
  {
   "attachments": {},
   "cell_type": "markdown",
   "metadata": {},
   "source": [
    "By running each version of the \"search\" algo 100 times we compare the average number of iterations needed, ofc we can theoretically make a more precise comparison by increasing the number of runtime however this also increases the amount of time it takes for python to proccess. However, with 100 iterations we find that actually the version with a smaller amount of warmups is more effective at reaching the end point. However if do not include the warmups as actual guesses and subtract them, then the secound algorithm with the higher number of warmups is slightly faster."
   ]
  },
  {
   "cell_type": "code",
   "execution_count": 54,
   "metadata": {},
   "outputs": [
    {
     "name": "stdout",
     "output_type": "stream",
     "text": [
      "╒═════════════╤══════════════════════╤════════════════════╕\n",
      "│ Warmup      │   Average Iterations │   Excluding warmup │\n",
      "╞═════════════╪══════════════════════╪════════════════════╡\n",
      "│ Warmup = 10 │                  377 │                367 │\n",
      "├─────────────┼──────────────────────┼────────────────────┤\n",
      "│ Warmup =100 │                  476 │                376 │\n",
      "╘═════════════╧══════════════════════╧════════════════════╛\n"
     ]
    }
   ],
   "source": [
    "from tabulate import tabulate\n",
    "\n",
    "results = [\n",
    "    [\"Warmup = 10 \", 377, 367],\n",
    "    [\"Warmup =100\", 476, 376],   \n",
    "]\n",
    "\n",
    "headers = [\"Warmup\", \"Average Iterations\", \"Excluding warmup\" ]\n",
    "\n",
    "table = tabulate(results, headers, tablefmt=\"fancy_grid\")\n",
    "\n",
    "print(table)"
   ]
  }
 ],
 "metadata": {
  "kernelspec": {
   "display_name": "base",
   "language": "python",
   "name": "python3"
  },
  "language_info": {
   "codemirror_mode": {
    "name": "ipython",
    "version": 3
   },
   "file_extension": ".py",
   "mimetype": "text/x-python",
   "name": "python",
   "nbconvert_exporter": "python",
   "pygments_lexer": "ipython3",
   "version": "3.10.9"
  },
  "orig_nbformat": 4
 },
 "nbformat": 4,
 "nbformat_minor": 2
}
