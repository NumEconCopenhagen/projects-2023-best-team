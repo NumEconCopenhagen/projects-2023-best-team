{
 "cells": [
  {
   "cell_type": "markdown",
   "metadata": {},
   "source": [
    "# Solving the Stackelberg Model with Python!"
   ]
  },
  {
   "cell_type": "markdown",
   "metadata": {},
   "source": [
    "# Model description"
   ]
  },
  {
   "cell_type": "markdown",
   "metadata": {},
   "source": [
    "**Write out the model in equations here.** \n",
    "\n",
    "Make sure you explain well the purpose of the model and comment so that other students who may not have seen it before can follow.  "
   ]
  },
  {
   "cell_type": "code",
   "execution_count": 99,
   "metadata": {},
   "outputs": [
    {
     "ename": "IndexError",
     "evalue": "list index out of range",
     "output_type": "error",
     "traceback": [
      "\u001b[1;31m---------------------------------------------------------------------------\u001b[0m",
      "\u001b[1;31mIndexError\u001b[0m                                Traceback (most recent call last)",
      "\u001b[1;32m~\\AppData\\Local\\Temp\\ipykernel_20560\\3274221406.py\u001b[0m in \u001b[0;36m<module>\u001b[1;34m\u001b[0m\n\u001b[0;32m     12\u001b[0m \u001b[1;33m\u001b[0m\u001b[0m\n\u001b[0;32m     13\u001b[0m \u001b[1;31m# Define follower's best response function\u001b[0m\u001b[1;33m\u001b[0m\u001b[1;33m\u001b[0m\u001b[0m\n\u001b[1;32m---> 14\u001b[1;33m \u001b[0mbr2\u001b[0m \u001b[1;33m=\u001b[0m \u001b[0msolve\u001b[0m\u001b[1;33m(\u001b[0m\u001b[0mdiff\u001b[0m\u001b[1;33m(\u001b[0m\u001b[0mpi1\u001b[0m\u001b[1;33m.\u001b[0m\u001b[0msubs\u001b[0m\u001b[1;33m(\u001b[0m\u001b[0mQ1\u001b[0m\u001b[1;33m,\u001b[0m \u001b[0meq1\u001b[0m\u001b[1;33m.\u001b[0m\u001b[0mrhs\u001b[0m\u001b[1;33m)\u001b[0m\u001b[1;33m,\u001b[0m \u001b[0mQ2\u001b[0m\u001b[1;33m)\u001b[0m\u001b[1;33m,\u001b[0m \u001b[0mQ2\u001b[0m\u001b[1;33m)\u001b[0m\u001b[1;33m[\u001b[0m\u001b[1;36m0\u001b[0m\u001b[1;33m]\u001b[0m\u001b[1;33m\u001b[0m\u001b[1;33m\u001b[0m\u001b[0m\n\u001b[0m\u001b[0;32m     15\u001b[0m \u001b[1;33m\u001b[0m\u001b[0m\n\u001b[0;32m     16\u001b[0m \u001b[1;31m# Define leader's optimal output\u001b[0m\u001b[1;33m\u001b[0m\u001b[1;33m\u001b[0m\u001b[0m\n",
      "\u001b[1;31mIndexError\u001b[0m: list index out of range"
     ]
    }
   ],
   "source": [
    "from sympy import symbols, solve, diff, Eq\n",
    "\n",
    "# Define symbols\n",
    "C1, C2, P, Q1, Q2 = symbols('C1 C2 P Q1 Q2')\n",
    "\n",
    "# Define equations\n",
    "eq1 = Eq(Q1, 10 - 0.5*Q2)\n",
    "eq2 = Eq(Q2, 10 - Q1)\n",
    "\n",
    "# Define leader's profit function\n",
    "pi1 = P*(Q1 + Q2) - C1*Q1\n",
    "\n",
    "# Define follower's best response function\n",
    "br2 = solve(diff(pi1.subs(Q1, eq1.rhs), Q2), Q2)[0]\n",
    "\n",
    "# Define leader's optimal output\n",
    "sol = solve(diff(pi1.subs(Q2, br2), Q1), Q1)\n",
    "q1_star = sol[0]\n",
    "q2_star = eq1.rhs.subs(Q1, q1_star)\n",
    "\n",
    "# Print results\n",
    "print(f\"Leader's optimal output: q1_star = {q1_star}, q2_star = {q2_star}\")\n",
    "print(f\"Follower's best response: q2_star = {br2}\")\n"
   ]
  },
  {
   "attachments": {},
   "cell_type": "markdown",
   "metadata": {},
   "source": [
    "from sympy import symbols, Eq, solve, diff\n",
    "\n",
    "# Define symbols\n",
    "Q1, Q2, P, c1, c2, q1, q2 = symbols('Q1 Q2 P c1 c2 q1 q2')\n",
    "\n",
    "# Define equations\n",
    "eq1 = Eq(P*Q1 - c1*Q1, P*Q2 - c2*Q2)\n",
    "eq2 = Eq(P*Q1 - c1*Q1, q1 + q2*Q1)\n",
    "eq3 = diff(eq2.lhs, q1)\n",
    "\n",
    "# Solve for q1 and q2\n",
    "sol = solve((eq1, eq3), (q1, q2))\n",
    "\n",
    "# Define leader and follower's optimal output\n",
    "q1_star = sol[q1]\n",
    "q2_star = q2.subs(q1, q1_star)\n",
    "\n",
    "# Define total output and market price\n",
    "Q_star = Q1.subs(q1, q1_star)\n",
    "P_star = P.subs({Q1: Q_star, Q2: q2_star})\n",
    "\n",
    "# Print the solutions\n",
    "print(\"Leader's optimal output:\", q1_star)\n",
    "print(\"Follower's optimal output:\", q2_star)\n",
    "print(\"Total output:\", Q_star)\n",
    "print(\"Market price:\", P_star)"
   ]
  },
  {
   "cell_type": "code",
   "execution_count": null,
   "metadata": {},
   "outputs": [],
   "source": [
    "import numpy as np\n",
    "import matplotlib.pyplot as plt\n",
    "plt.rcParams.update({\"axes.grid\":True,\"grid.color\":\"black\",\"grid.alpha\":\"0.25\",\"grid.linestyle\":\"--\"})\n",
    "plt.rcParams.update({'font.size': 14})\n",
    "\n",
    "from scipy import optimize\n",
    "\n",
    "import sympy as sm\n",
    "from IPython.display import display"
   ]
  },
  {
   "cell_type": "markdown",
   "metadata": {},
   "source": [
    "## Analytical solution"
   ]
  },
  {
   "cell_type": "markdown",
   "metadata": {},
   "source": [
    "If your model allows for an analytical solution, you should provide here.\n",
    "\n",
    "You may use Sympy for this. Then you can characterize the solution as a function of a parameter of the model.\n",
    "\n",
    "To characterize the solution, first derive a steady state equation as a function of a parameter using Sympy.solve and then turn it into a python function by Sympy.lambdify. See the lecture notes for details. "
   ]
  },
  {
   "attachments": {},
   "cell_type": "markdown",
   "metadata": {},
   "source": [
    "Part 2 of the stuff Andreas has!"
   ]
  },
  {
   "cell_type": "markdown",
   "metadata": {},
   "source": [
    "## Numerical solution"
   ]
  },
  {
   "attachments": {},
   "cell_type": "markdown",
   "metadata": {},
   "source": [
    "This part of the assignment is done in the stackelberg.py file. We numerically optimize the stackelberg model for the same parameters as in the anlytical solution."
   ]
  },
  {
   "cell_type": "code",
   "execution_count": null,
   "metadata": {},
   "outputs": [
    {
     "name": "stdout",
     "output_type": "stream",
     "text": [
      "The autoreload extension is already loaded. To reload it, use:\n",
      "  %reload_ext autoreload\n"
     ]
    }
   ],
   "source": [
    "%load_ext autoreload\n",
    "%autoreload 2\n",
    "from stackelberg import StackelbergSolver as model\n",
    "from stackelberg import plot_stackelberg_interact\n"
   ]
  },
  {
   "cell_type": "code",
   "execution_count": null,
   "metadata": {},
   "outputs": [
    {
     "data": {
      "text/plain": [
       "(array([9.99999995]), array([5.00000002]))"
      ]
     },
     "execution_count": 61,
     "metadata": {},
     "output_type": "execute_result"
    }
   ],
   "source": [
    "model().solve_eq()"
   ]
  },
  {
   "attachments": {},
   "cell_type": "markdown",
   "metadata": {},
   "source": [
    "Although there is not quite full convergence, we indeed are converging towards the same solution!"
   ]
  },
  {
   "cell_type": "markdown",
   "metadata": {},
   "source": [
    "# Further analysis"
   ]
  },
  {
   "attachments": {},
   "cell_type": "markdown",
   "metadata": {},
   "source": [
    "Below we produce an interactive plot which allows for different values for our parameters. a and b are the demands for good 1 and 2 respectively. X is the maximum price before leaving the market. "
   ]
  },
  {
   "cell_type": "code",
   "execution_count": 78,
   "metadata": {},
   "outputs": [
    {
     "data": {
      "application/vnd.jupyter.widget-view+json": {
       "model_id": "866b5016f29d41d28a188e6d70ceeda1",
       "version_major": 2,
       "version_minor": 0
      },
      "text/plain": [
       "interactive(children=(FloatSlider(value=1.0, description='a', max=5.0, min=1.0, step=0.25), FloatSlider(value=…"
      ]
     },
     "metadata": {},
     "output_type": "display_data"
    }
   ],
   "source": [
    "plot_stackelberg_interact()"
   ]
  },
  {
   "attachments": {},
   "cell_type": "markdown",
   "metadata": {},
   "source": [
    "For a variation of the model we imagine that the firms are oil producers and firm 2 is in a country with a windfall tax, which is a tax on extraordinary profits. The tax is at t=10% and is put on firm 2. Basically, firm 2's profit function is multiplied by (1-t)."
   ]
  },
  {
   "cell_type": "code",
   "execution_count": 122,
   "metadata": {},
   "outputs": [],
   "source": [
    "from stackelberg import StackelbergSolver2 as model2"
   ]
  },
  {
   "cell_type": "code",
   "execution_count": 124,
   "metadata": {},
   "outputs": [
    {
     "data": {
      "text/plain": [
       "(array([16.53866163]), array([1.73066918]))"
      ]
     },
     "execution_count": 124,
     "metadata": {},
     "output_type": "execute_result"
    }
   ],
   "source": [
    "model2().solve_eq()"
   ]
  },
  {
   "attachments": {},
   "cell_type": "markdown",
   "metadata": {},
   "source": [
    "We see that this dramatically changes the opimal quantities and firm 2 sells much less at 1,7 compared 5 without the tax, whereas the unaffected firm 1 now produces 16,5 units instead of 10."
   ]
  },
  {
   "cell_type": "markdown",
   "metadata": {},
   "source": [
    "# Conclusion"
   ]
  },
  {
   "cell_type": "markdown",
   "metadata": {},
   "source": [
    "We solved the stackelberg model using an analytical approach with SYMPY. We then solved it numerically, which converged towards the same result for our paramaters. Finally, we windfall tax to firm 2 and solved numerically, which gives very different results with higher production for firm 1 and less for firm 2."
   ]
  }
 ],
 "metadata": {
  "kernelspec": {
   "display_name": "base",
   "language": "python",
   "name": "python3"
  },
  "language_info": {
   "codemirror_mode": {
    "name": "ipython",
    "version": 3
   },
   "file_extension": ".py",
   "mimetype": "text/x-python",
   "name": "python",
   "nbconvert_exporter": "python",
   "pygments_lexer": "ipython3",
   "version": "3.9.16"
  },
  "toc-autonumbering": true,
  "vscode": {
   "interpreter": {
    "hash": "47ef90cdf3004d3f859f1fb202523c65c07ba7c22eefd261b181f4744e2d0403"
   }
  }
 },
 "nbformat": 4,
 "nbformat_minor": 4
}
