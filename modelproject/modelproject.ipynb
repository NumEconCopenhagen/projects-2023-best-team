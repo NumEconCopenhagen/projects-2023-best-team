{
 "cells": [
  {
   "attachments": {},
   "cell_type": "markdown",
   "metadata": {},
   "source": [
    "# Solving the Stackelberg Model with Python!"
   ]
  },
  {
   "attachments": {},
   "cell_type": "markdown",
   "metadata": {},
   "source": [
    "# Model description and Analytical Solution"
   ]
  },
  {
   "attachments": {},
   "cell_type": "markdown",
   "metadata": {},
   "source": [
    "In this assignment we which to analyse and solve a simpel Stackelberg Model, first we will use symbolic python to solve the model, afterwards we will solve it numerically and lastly apply some extensions to the model.\n",
    "The Stackelberg model is a model of competitions wherein one company is the leader and the secound company is the follower, the leader is able to set production first giving it an advantage.\n",
    "\n",
    "The Model we analyse in this assignment has 0 marginal costs and a maximum price tolerance of 20, thus containing the following 3 equations:\n",
    "\n",
    "$P=20-q_1-q_2$ (Equation explaining the price as a function of the total quantity produced)\n",
    "\n",
    "$Π_1=P*q_1$  (Leaders profit function)\n",
    "\n",
    "$Π_2=P*q_2$  (Followers profit function)\n",
    "\n",
    "\n"
   ]
  },
  {
   "attachments": {},
   "cell_type": "markdown",
   "metadata": {},
   "source": [
    "We start the solving proccess by importing the relevant packages and defining the various variables and equations mentioned above.\n",
    "Afterwards in Eq4 and Eq5 we simply insert the equation for price into the profit functions. "
   ]
  },
  {
   "cell_type": "code",
   "execution_count": 1,
   "metadata": {},
   "outputs": [],
   "source": [
    "import numpy as np\n",
    "import matplotlib.pyplot as plt\n",
    "plt.rcParams.update({\"axes.grid\":True,\"grid.color\":\"black\",\"grid.alpha\":\"0.25\",\"grid.linestyle\":\"--\"})\n",
    "plt.rcParams.update({'font.size': 14})\n",
    "\n",
    "from scipy import optimize\n",
    "\n",
    "import sympy as sm\n",
    "from sympy import symbols\n",
    "from IPython.display import display"
   ]
  },
  {
   "cell_type": "code",
   "execution_count": 2,
   "metadata": {},
   "outputs": [],
   "source": [
    "Q1, Q2, P,Pi1, Pi2, Q1s, Q2s, Pi1s, Pi2s = symbols('q_1 q_2 P Pi_1 Pi_2 q_1^* q_2^*, Pi_1^*, Pi_2^* ')\n",
    "\n",
    "eq0 = sm.Eq(P,20-Q1-Q2)\n",
    "eq1 = sm.Eq(Pi1, P*Q1)\n",
    "eq2 = sm.Eq(Pi2, P*Q2)\n",
    "\n",
    "eq4 = sm.Eq(Pi1,(20-Q1-Q2)*Q1)\n",
    "eq5 = sm.Eq(Pi2,(20-Q1-Q2)*Q2)"
   ]
  },
  {
   "attachments": {},
   "cell_type": "markdown",
   "metadata": {},
   "source": [
    " We now maximize the profits of the leader firm, to get its best reaction to the followers supply."
   ]
  },
  {
   "cell_type": "code",
   "execution_count": 3,
   "metadata": {},
   "outputs": [
    {
     "data": {
      "text/latex": [
       "$\\displaystyle \\Pi_{1} = - 2 q_{1} - q_{2} + 20$"
      ],
      "text/plain": [
       "Eq(Pi_1, -2*q_1 - q_2 + 20)"
      ]
     },
     "execution_count": 3,
     "metadata": {},
     "output_type": "execute_result"
    }
   ],
   "source": [
    " \n",
    "eq41 = sm.Eq(Pi1,(sm.diff(eq4.rhs, Q1)))\n",
    "eq41"
   ]
  },
  {
   "attachments": {},
   "cell_type": "markdown",
   "metadata": {},
   "source": [
    "Isolate and calcuate best reaction for Q1 for the follower firm "
   ]
  },
  {
   "cell_type": "code",
   "execution_count": 4,
   "metadata": {},
   "outputs": [
    {
     "data": {
      "text/latex": [
       "$\\displaystyle \\Pi_{2} = - q_{1} - 2 q_{2} + 20$"
      ],
      "text/plain": [
       "Eq(Pi_2, -q_1 - 2*q_2 + 20)"
      ]
     },
     "execution_count": 4,
     "metadata": {},
     "output_type": "execute_result"
    }
   ],
   "source": [
    " \n",
    "eq51 = sm.Eq(Pi2,(sm.diff(eq5.rhs, Q2)))\n",
    "eq511 = (sm.diff(eq5.rhs, Q2))\n",
    "eq51"
   ]
  },
  {
   "attachments": {},
   "cell_type": "markdown",
   "metadata": {},
   "source": [
    "We now isolate Q2 as a function of Q1 in the followers best reaction equation"
   ]
  },
  {
   "cell_type": "code",
   "execution_count": 5,
   "metadata": {},
   "outputs": [
    {
     "data": {
      "text/latex": [
       "$\\displaystyle q^{*}_{2} = 10 - \\frac{q_{1}}{2}$"
      ],
      "text/plain": [
       "Eq(q_2^*, 10 - q_1/2)"
      ]
     },
     "execution_count": 5,
     "metadata": {},
     "output_type": "execute_result"
    }
   ],
   "source": [
    "eq52 =sm.solve(eq511, (Q2))\n",
    "sm.Eq(Q2s,eq52[0])"
   ]
  },
  {
   "attachments": {},
   "cell_type": "markdown",
   "metadata": {},
   "source": [
    "The leader firm will thus maximize taking into  account the best reaction of the follower, $q_2^*$\n",
    "\n",
    "We use this in the following equation to calculate the production of the leader firm."
   ]
  },
  {
   "cell_type": "code",
   "execution_count": 6,
   "metadata": {},
   "outputs": [
    {
     "data": {
      "text/latex": [
       "$\\displaystyle \\Pi_{1} = q_{1} \\cdot \\left(10 - 0.5 q_{1}\\right)$"
      ],
      "text/plain": [
       "Eq(Pi_1, q_1*(10 - 0.5*q_1))"
      ]
     },
     "execution_count": 6,
     "metadata": {},
     "output_type": "execute_result"
    }
   ],
   "source": [
    "\n",
    "eq42= sm.Eq(Pi1, (20-Q1-10 + 0.5*Q1)*Q1)\n",
    "eq42"
   ]
  },
  {
   "cell_type": "code",
   "execution_count": 7,
   "metadata": {},
   "outputs": [
    {
     "data": {
      "text/latex": [
       "$\\displaystyle \\Pi_{2} = 10 - 1.0 q_{1}$"
      ],
      "text/plain": [
       "Eq(Pi_2, 10 - 1.0*q_1)"
      ]
     },
     "execution_count": 7,
     "metadata": {},
     "output_type": "execute_result"
    }
   ],
   "source": [
    "eq43= (sm.Eq(Pi2,sm.diff(eq42.rhs, (Q1))))\n",
    "eq43"
   ]
  },
  {
   "cell_type": "code",
   "execution_count": 8,
   "metadata": {},
   "outputs": [
    {
     "data": {
      "text/latex": [
       "$\\displaystyle q^{*}_{1} = 10.0$"
      ],
      "text/plain": [
       "Eq(q_1^*, 10.0)"
      ]
     },
     "execution_count": 8,
     "metadata": {},
     "output_type": "execute_result"
    }
   ],
   "source": [
    "\n",
    "eq44= sm.solve(eq43.rhs, (Q1))\n",
    "sm.Eq(Q1s,eq44[0])"
   ]
  },
  {
   "cell_type": "code",
   "execution_count": 9,
   "metadata": {},
   "outputs": [
    {
     "data": {
      "text/latex": [
       "$\\displaystyle q^{*}_{2} = 5$"
      ],
      "text/plain": [
       "Eq(q_2^*, 5)"
      ]
     },
     "execution_count": 9,
     "metadata": {},
     "output_type": "execute_result"
    }
   ],
   "source": [
    "eq61 =sm.Eq(Pi2,(20-10-Q2)*Q2)\n",
    "eq63= (sm.diff(eq61.rhs, (Q2)))\n",
    "eq62= sm.solve(eq63, (Q2))\n",
    "sm.Eq(Q2s,eq62[0])"
   ]
  },
  {
   "attachments": {},
   "cell_type": "markdown",
   "metadata": {},
   "source": [
    "We lastly calculate the profits of the 2 firms."
   ]
  },
  {
   "cell_type": "code",
   "execution_count": 10,
   "metadata": {},
   "outputs": [
    {
     "data": {
      "text/latex": [
       "$\\displaystyle \\Pi^{*}_{1} = 50$"
      ],
      "text/plain": [
       "Eq(Pi_1^*, 50)"
      ]
     },
     "execution_count": 10,
     "metadata": {},
     "output_type": "execute_result"
    }
   ],
   "source": [
    "eq6 = sm.Eq(Pi1s,(20-10-5)*10)\n",
    "eq7 = sm.Eq(Pi2s,(20-10-5)*5)\n",
    "eq6"
   ]
  },
  {
   "cell_type": "code",
   "execution_count": 11,
   "metadata": {},
   "outputs": [
    {
     "data": {
      "text/latex": [
       "$\\displaystyle \\Pi^{*}_{2} = 25$"
      ],
      "text/plain": [
       "Eq(Pi_2^*, 25)"
      ]
     },
     "execution_count": 11,
     "metadata": {},
     "output_type": "execute_result"
    }
   ],
   "source": [
    "eq7"
   ]
  },
  {
   "attachments": {},
   "cell_type": "markdown",
   "metadata": {},
   "source": [
    "We find that in this case of the stackelberg model the leader firm will produce 10 and the follower will produce 5, giving the leader firm 50 profit and the follower 25 profits, illustrating the first mover advantage."
   ]
  },
  {
   "attachments": {},
   "cell_type": "markdown",
   "metadata": {},
   "source": [
    "## Numerical solution"
   ]
  },
  {
   "attachments": {},
   "cell_type": "markdown",
   "metadata": {},
   "source": [
    "This part of the assignment is done in the stackelberg.py file. We numerically optimize the stackelberg model for the same parameters as in the anlytical solution."
   ]
  },
  {
   "cell_type": "code",
   "execution_count": 12,
   "metadata": {},
   "outputs": [],
   "source": [
    "%load_ext autoreload\n",
    "%autoreload 2\n",
    "from stackelberg import StackelbergSolver as model\n",
    "from stackelberg import plot_stackelberg_interact\n"
   ]
  },
  {
   "attachments": {},
   "cell_type": "markdown",
   "metadata": {},
   "source": [
    "Explain how your solution algorithm, and how you solve the model."
   ]
  },
  {
   "attachments": {},
   "cell_type": "markdown",
   "metadata": {},
   "source": [
    "In the stackelberg.py file, we write up a general demand function $demand = X-a*q1-b*q2$. We have a general cost function $c*q$. We write up the profit function as demand function times q1 and subtracting the cost. We get the best best response for firm 2 by algorithmically minimizing negative profits for firm 2, making sure the best response can only take positive values.\n",
    "We finally calculate the reaction by algorithmically minimizing the negative profits for firm 2, taking the best respones into account.\n",
    "\n"
   ]
  },
  {
   "cell_type": "code",
   "execution_count": 13,
   "metadata": {},
   "outputs": [
    {
     "data": {
      "text/plain": [
       "(array([9.99999995]), array([5.00000002]))"
      ]
     },
     "execution_count": 13,
     "metadata": {},
     "output_type": "execute_result"
    }
   ],
   "source": [
    "model().solve_eq()"
   ]
  },
  {
   "attachments": {},
   "cell_type": "markdown",
   "metadata": {},
   "source": [
    "There is full convergence towards the same solution as found using sympy!"
   ]
  },
  {
   "attachments": {},
   "cell_type": "markdown",
   "metadata": {},
   "source": [
    "# Further analysis"
   ]
  },
  {
   "attachments": {},
   "cell_type": "markdown",
   "metadata": {},
   "source": [
    "Below we produce an interactive plot which allows for different values for our parameters. Specifically, we show the best response for company 2 given company 1's expected reaction. a and b are the demands for good 1 and 2 respectively. X is the maximum price before leaving the market. c1 is cost for firm 1."
   ]
  },
  {
   "cell_type": "code",
   "execution_count": 14,
   "metadata": {},
   "outputs": [
    {
     "data": {
      "application/vnd.jupyter.widget-view+json": {
       "model_id": "7be8415f776542e9a6d742cdf84e9fdf",
       "version_major": 2,
       "version_minor": 0
      },
      "text/plain": [
       "interactive(children=(FloatSlider(value=1.0, description='a', max=5.0, min=1.0, step=0.25), FloatSlider(value=…"
      ]
     },
     "metadata": {},
     "output_type": "display_data"
    }
   ],
   "source": [
    "plot_stackelberg_interact()"
   ]
  },
  {
   "attachments": {},
   "cell_type": "markdown",
   "metadata": {},
   "source": [
    "For a variation of the model we imagine that the firms are oil producers and a windfall tax is imposed, which is a tax on extraordinary gross profits. The tax is at t=30%. Thus the new model is as follows containing the following 3 equations:\n",
    "\n",
    "$P=20-q_1-q_2$\n",
    "\n",
    "$Π_1=(P*q_1-c_1*q_1)*(1-t)$\n",
    "\n",
    "$Π_2=(P*q_2-c*q_2)*(1-t)$"
   ]
  },
  {
   "cell_type": "code",
   "execution_count": 55,
   "metadata": {},
   "outputs": [],
   "source": [
    "from stackelberg import StackelbergSolver2 as model2\n",
    "from stackelberg import plot_stackelberg_interact2"
   ]
  },
  {
   "cell_type": "code",
   "execution_count": 50,
   "metadata": {},
   "outputs": [
    {
     "data": {
      "text/plain": [
       "(array([10.16546059]), array([4.91726969]))"
      ]
     },
     "execution_count": 50,
     "metadata": {},
     "output_type": "execute_result"
    }
   ],
   "source": [
    "\n",
    "model2().solve_eq()"
   ]
  },
  {
   "attachments": {},
   "cell_type": "markdown",
   "metadata": {},
   "source": [
    "We see that this results has slightly skewed production towards company 1, compared to without the tax."
   ]
  },
  {
   "attachments": {},
   "cell_type": "markdown",
   "metadata": {},
   "source": [
    "Since profits are mainly impaceted by the tax, we finally show an interactive plot of the profits for firm 1, which allows for different tax rates."
   ]
  },
  {
   "cell_type": "code",
   "execution_count": 56,
   "metadata": {},
   "outputs": [
    {
     "data": {
      "application/vnd.jupyter.widget-view+json": {
       "model_id": "6272e56303d94c71af8fc2875bf8bd15",
       "version_major": 2,
       "version_minor": 0
      },
      "text/plain": [
       "interactive(children=(FloatSlider(value=1.0, description='a', max=5.0, min=1.0, step=0.25), FloatSlider(value=…"
      ]
     },
     "metadata": {},
     "output_type": "display_data"
    }
   ],
   "source": [
    "plot_stackelberg_interact2()"
   ]
  },
  {
   "attachments": {},
   "cell_type": "markdown",
   "metadata": {},
   "source": [
    "# Conclusion"
   ]
  },
  {
   "attachments": {},
   "cell_type": "markdown",
   "metadata": {},
   "source": [
    "We solved the stackelberg model using an analytical approach with SYMPY. We then solved it numerically, which converged towards the same result for our paramaters. Finally, we windfall tax and solved numerically, which gives slightly different quantites and highly different profits."
   ]
  }
 ],
 "metadata": {
  "kernelspec": {
   "display_name": "base",
   "language": "python",
   "name": "python3"
  },
  "language_info": {
   "codemirror_mode": {
    "name": "ipython",
    "version": 3
   },
   "file_extension": ".py",
   "mimetype": "text/x-python",
   "name": "python",
   "nbconvert_exporter": "python",
   "pygments_lexer": "ipython3",
   "version": "3.9.16"
  },
  "toc-autonumbering": true,
  "vscode": {
   "interpreter": {
    "hash": "47ef90cdf3004d3f859f1fb202523c65c07ba7c22eefd261b181f4744e2d0403"
   }
  }
 },
 "nbformat": 4,
 "nbformat_minor": 4
}
