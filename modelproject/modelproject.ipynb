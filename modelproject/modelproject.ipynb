{
 "cells": [
  {
   "attachments": {},
   "cell_type": "markdown",
   "metadata": {},
   "source": [
    "# Solving the Stackelberg Model with Python!"
   ]
  },
  {
   "attachments": {},
   "cell_type": "markdown",
   "metadata": {},
   "source": [
    "# Model description and Analytical Solution"
   ]
  },
  {
   "attachments": {},
   "cell_type": "markdown",
   "metadata": {},
   "source": [
    "In this assignment we which to analyse and solve a simpel Stackelberg Model, first we will use symbolic python to solve the model, afterwards we will solve it numerically and lastly apply some extensions to the model.\n",
    "The Stackelberg model is a model of competitions wherein one company is the leader and the secound company is the follower, the leader is able to set production first giving it an advantage.\n",
    "\n",
    "The Model we analyse in this assignment has 0 marginal costs and a maximum price tolerance of 20, thus containing the following 3 equations:\n",
    "$P=20-q_1-q_2$\n",
    "$Π_1=P*q_1-c_1*q_1$\n",
    "$Π_2=P*q_2-c*q_2$\n",
    "\n",
    "\n"
   ]
  },
  {
   "cell_type": "code",
   "execution_count": 1,
   "metadata": {},
   "outputs": [],
   "source": [
    "# first we import some packages to help us analyse and solve the model in \n",
    "import numpy as np\n",
    "import matplotlib.pyplot as plt\n",
    "plt.rcParams.update({\"axes.grid\":True,\"grid.color\":\"black\",\"grid.alpha\":\"0.25\",\"grid.linestyle\":\"--\"})\n",
    "plt.rcParams.update({'font.size': 14})\n",
    "\n",
    "from scipy import optimize\n",
    "\n",
    "import sympy as sm\n",
    "from sympy import symbols\n",
    "from IPython.display import display"
   ]
  },
  {
   "cell_type": "code",
   "execution_count": 2,
   "metadata": {},
   "outputs": [],
   "source": [
    "Q1, Q2, P,Pi1, Pi2, Q1s, Q2s = symbols('q_1 q_2 P Pi_1 Pi_2 q_1^* q_2^* ')\n",
    "# We wish to solve the Stackelberg model containing the following equations, where firm 1 is the leader and firm 2 is the follower\n",
    "\n",
    "eq0 = sm.Eq(P,20-Q1-Q2)\n",
    "eq1 = sm.Eq(Pi1, P*Q1)\n",
    "eq2 = sm.Eq(Pi2, P*Q2)\n",
    "# We now insert the Price into the profit functions\n",
    "\n",
    "eq4 = sm.Eq(Pi1,(20-Q1-Q2)*Q1)\n",
    "eq5 = sm.Eq(Pi2,(20-Q1-Q2)*Q2)"
   ]
  },
  {
   "cell_type": "code",
   "execution_count": 3,
   "metadata": {},
   "outputs": [
    {
     "data": {
      "text/latex": [
       "$\\displaystyle \\Pi_{1} = - 2 q_{1} - q_{2} + 20$"
      ],
      "text/plain": [
       "Eq(Pi_1, -2*q_1 - q_2 + 20)"
      ]
     },
     "execution_count": 3,
     "metadata": {},
     "output_type": "execute_result"
    }
   ],
   "source": [
    "# We now maximize the profits of the leader firm, to get its best reaction to the followers supply.\n",
    " \n",
    "eq41 = sm.Eq(Pi1,(sm.diff(eq4.rhs, Q1)))\n",
    "eq41"
   ]
  },
  {
   "cell_type": "code",
   "execution_count": 4,
   "metadata": {},
   "outputs": [
    {
     "data": {
      "text/latex": [
       "$\\displaystyle \\Pi_{2} = - q_{1} - 2 q_{2} + 20$"
      ],
      "text/plain": [
       "Eq(Pi_2, -q_1 - 2*q_2 + 20)"
      ]
     },
     "execution_count": 4,
     "metadata": {},
     "output_type": "execute_result"
    }
   ],
   "source": [
    "# Isolate and calcuate best reaction for Q1 for the follower firm \n",
    " \n",
    "eq51 = sm.Eq(Pi2,(sm.diff(eq5.rhs, Q2)))\n",
    "eq511 = (sm.diff(eq5.rhs, Q2))\n",
    "eq51"
   ]
  },
  {
   "cell_type": "code",
   "execution_count": 5,
   "metadata": {},
   "outputs": [
    {
     "data": {
      "text/latex": [
       "$\\displaystyle q^{*}_{2} = 10 - \\frac{q_{1}}{2}$"
      ],
      "text/plain": [
       "Eq(q_2^*, 10 - q_1/2)"
      ]
     },
     "execution_count": 5,
     "metadata": {},
     "output_type": "execute_result"
    }
   ],
   "source": [
    "#We now isolate Q2 as a function of Q1\n",
    "eq52 =sm.solve(eq511, (Q2))\n",
    "sm.Eq(Q2s,eq52[0])"
   ]
  },
  {
   "cell_type": "code",
   "execution_count": 6,
   "metadata": {},
   "outputs": [
    {
     "data": {
      "text/latex": [
       "$\\displaystyle \\Pi_{1} = q_{1} \\cdot \\left(10 - 0.5 q_{1}\\right)$"
      ],
      "text/plain": [
       "Eq(Pi_1, q_1*(10 - 0.5*q_1))"
      ]
     },
     "execution_count": 6,
     "metadata": {},
     "output_type": "execute_result"
    }
   ],
   "source": [
    "# The leader firm will take into account the best reaction of the follower\n",
    "\n",
    "eq42= sm.Eq(Pi1, (20-Q1-10 + 0.5*Q1)*Q1)\n",
    "eq42"
   ]
  },
  {
   "cell_type": "code",
   "execution_count": 7,
   "metadata": {},
   "outputs": [
    {
     "data": {
      "text/latex": [
       "$\\displaystyle \\Pi_{2} = 10 - 1.0 q_{1}$"
      ],
      "text/plain": [
       "Eq(Pi_2, 10 - 1.0*q_1)"
      ]
     },
     "execution_count": 7,
     "metadata": {},
     "output_type": "execute_result"
    }
   ],
   "source": [
    "# The leader firm optimizes its profits based on the best reaction of the follower\n",
    "eq43= (sm.Eq(Pi2,sm.diff(eq42.rhs, (Q1))))\n",
    "eq43"
   ]
  },
  {
   "cell_type": "code",
   "execution_count": 8,
   "metadata": {},
   "outputs": [
    {
     "data": {
      "text/latex": [
       "$\\displaystyle q^{*}_{1} = 10.0$"
      ],
      "text/plain": [
       "Eq(q_1^*, 10.0)"
      ]
     },
     "execution_count": 8,
     "metadata": {},
     "output_type": "execute_result"
    }
   ],
   "source": [
    "# We now isolate the Q1 to find the amount produced by the leader\n",
    "\n",
    "eq44= sm.solve(eq43.rhs, (Q1))\n",
    "sm.Eq(Q1s,eq44[0])"
   ]
  },
  {
   "cell_type": "code",
   "execution_count": 9,
   "metadata": {},
   "outputs": [
    {
     "data": {
      "text/plain": [
       "[5]"
      ]
     },
     "execution_count": 9,
     "metadata": {},
     "output_type": "execute_result"
    }
   ],
   "source": [
    "# The leader produces 10, now we can calcuate the production of the follower\n",
    "eq61 =sm.Eq(Pi2,(20-10-Q2)*Q2)\n",
    "eq63= (sm.diff(eq61.rhs, (Q2)))\n",
    "eq62= sm.solve(eq63, (Q2))\n",
    "eq62"
   ]
  },
  {
   "attachments": {},
   "cell_type": "markdown",
   "metadata": {},
   "source": [
    "We find that in this case of the stackelberg model the leader firm will produce 10 and the follower will produce 5, giving the leader firm a clear first mover advantage."
   ]
  },
  {
   "attachments": {},
   "cell_type": "markdown",
   "metadata": {},
   "source": [
    "## Numerical solution"
   ]
  },
  {
   "attachments": {},
   "cell_type": "markdown",
   "metadata": {},
   "source": [
    "This part of the assignment is done in the stackelberg.py file. We numerically optimize the stackelberg model for the same parameters as in the anlytical solution."
   ]
  },
  {
   "cell_type": "code",
   "execution_count": 10,
   "metadata": {},
   "outputs": [],
   "source": [
    "%load_ext autoreload\n",
    "%autoreload 2\n",
    "from stackelberg import StackelbergSolver as model\n",
    "from stackelberg import plot_stackelberg_interact\n"
   ]
  },
  {
   "attachments": {},
   "cell_type": "markdown",
   "metadata": {},
   "source": [
    "Explain how your solution algorithm, and how you solve the model."
   ]
  },
  {
   "attachments": {},
   "cell_type": "markdown",
   "metadata": {},
   "source": [
    "In the stackelberg.py file, we write up a general demand function $demand = X-a*q1-b*q2$. We have a general cost function $c*q$. We write up the profit function as demand function times q1 and subtracting the cost. We get the best best response for firm 2 by algorithmically minimizing negative profits for firm 2, making sure the best response can only take positive values.\n",
    "We finally calculate the reaction by algorithmically minimizing the negative profits for firm 2, taking the best respones into account.\n",
    "\n"
   ]
  },
  {
   "cell_type": "code",
   "execution_count": 11,
   "metadata": {},
   "outputs": [
    {
     "data": {
      "text/plain": [
       "(array([9.99999995]), array([5.00000002]))"
      ]
     },
     "execution_count": 11,
     "metadata": {},
     "output_type": "execute_result"
    }
   ],
   "source": [
    "model().solve_eq()"
   ]
  },
  {
   "attachments": {},
   "cell_type": "markdown",
   "metadata": {},
   "source": [
    "There is full convergence towards the same solution as found using sympy!"
   ]
  },
  {
   "attachments": {},
   "cell_type": "markdown",
   "metadata": {},
   "source": [
    "# Further analysis"
   ]
  },
  {
   "attachments": {},
   "cell_type": "markdown",
   "metadata": {},
   "source": [
    "Below we produce an interactive plot which allows for different values for our parameters. Specifically, we show the best response for company 2 given company 1's expected reaction. a and b are the demands for good 1 and 2 respectively. X is the maximum price before leaving the market. "
   ]
  },
  {
   "cell_type": "code",
   "execution_count": 12,
   "metadata": {},
   "outputs": [
    {
     "data": {
      "application/vnd.jupyter.widget-view+json": {
       "model_id": "2e4ff2bd790c49ed8e301bb020d79877",
       "version_major": 2,
       "version_minor": 0
      },
      "text/plain": [
       "interactive(children=(FloatSlider(value=1.0, description='a', max=5.0, min=1.0, step=0.25), FloatSlider(value=…"
      ]
     },
     "metadata": {},
     "output_type": "display_data"
    }
   ],
   "source": [
    "plot_stackelberg_interact()"
   ]
  },
  {
   "attachments": {},
   "cell_type": "markdown",
   "metadata": {},
   "source": [
    "For a variation of the model we imagine that the firms are oil producers and firm 2 is in a country with a windfall tax, which is a tax on extraordinary profits. The tax is at t=10% and is put on firm 2. Basically, firm 2's profit function is multiplied by (1-t). Thus the new model is as follows containing the following 3 equations:\n",
    "\n",
    "$P=20-q_1-q_2$\n",
    "\n",
    "$Π_1=P*q_1-c_1*q_1$\n",
    "\n",
    "$Π_2=(P*q_2-c*q_2)*(1-t)$"
   ]
  },
  {
   "cell_type": "code",
   "execution_count": 17,
   "metadata": {},
   "outputs": [],
   "source": [
    "from stackelberg import StackelbergSolver2 as model2\n",
    "from stackelberg import plot_stackelberg_interact2"
   ]
  },
  {
   "cell_type": "code",
   "execution_count": 18,
   "metadata": {},
   "outputs": [
    {
     "data": {
      "text/plain": [
       "(array([16.53866163]), array([1.73066918]))"
      ]
     },
     "execution_count": 18,
     "metadata": {},
     "output_type": "execute_result"
    }
   ],
   "source": [
    "model2().solve_eq()"
   ]
  },
  {
   "attachments": {},
   "cell_type": "markdown",
   "metadata": {},
   "source": [
    "We see that this dramatically changes the opimal quantities and firm 2 sells much less at 1,7 compared 5 without the tax, whereas the unaffected firm 1 now produces 16,5 units instead of 10."
   ]
  },
  {
   "cell_type": "code",
   "execution_count": 19,
   "metadata": {},
   "outputs": [
    {
     "data": {
      "application/vnd.jupyter.widget-view+json": {
       "model_id": "2b1ad9286f6143edae033c6c42c5eb2e",
       "version_major": 2,
       "version_minor": 0
      },
      "text/plain": [
       "interactive(children=(FloatSlider(value=1.0, description='a', max=5.0, min=1.0, step=0.25), FloatSlider(value=…"
      ]
     },
     "metadata": {},
     "output_type": "display_data"
    }
   ],
   "source": [
    "plot_stackelberg_interact2()"
   ]
  },
  {
   "attachments": {},
   "cell_type": "markdown",
   "metadata": {},
   "source": [
    "# Conclusion"
   ]
  },
  {
   "attachments": {},
   "cell_type": "markdown",
   "metadata": {},
   "source": [
    "We solved the stackelberg model using an analytical approach with SYMPY. We then solved it numerically, which converged towards the same result for our paramaters. Finally, we windfall tax to firm 2 and solved numerically, which gives very different results with higher production for firm 1 and less for firm 2."
   ]
  }
 ],
 "metadata": {
  "kernelspec": {
   "display_name": "base",
   "language": "python",
   "name": "python3"
  },
  "language_info": {
   "codemirror_mode": {
    "name": "ipython",
    "version": 3
   },
   "file_extension": ".py",
   "mimetype": "text/x-python",
   "name": "python",
   "nbconvert_exporter": "python",
   "pygments_lexer": "ipython3",
   "version": "3.9.16"
  },
  "toc-autonumbering": true,
  "vscode": {
   "interpreter": {
    "hash": "47ef90cdf3004d3f859f1fb202523c65c07ba7c22eefd261b181f4744e2d0403"
   }
  }
 },
 "nbformat": 4,
 "nbformat_minor": 4
}
