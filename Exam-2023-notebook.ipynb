{
 "cells": [
  {
   "attachments": {},
   "cell_type": "markdown",
   "metadata": {},
   "source": [
    "**Table of contents**<a id='toc0_'></a>    \n",
    "- 1. [Problem 1: Optimal taxation with government consumption](#toc1_)    \n",
    "- 2. [Problem 2: Labor adjustment costs](#toc2_)    \n",
    "- 3. [Problem 3: Global optimizer with refined multi-start](#toc3_)    \n",
    "\n",
    "<!-- vscode-jupyter-toc-config\n",
    "\tnumbering=true\n",
    "\tanchor=true\n",
    "\tflat=false\n",
    "\tminLevel=2\n",
    "\tmaxLevel=6\n",
    "\t/vscode-jupyter-toc-config -->\n",
    "<!-- THIS CELL WILL BE REPLACED ON TOC UPDATE. DO NOT WRITE YOUR TEXT IN THIS CELL -->"
   ]
  },
  {
   "cell_type": "code",
   "execution_count": 1,
   "metadata": {},
   "outputs": [],
   "source": [
    "# write your code here"
   ]
  },
  {
   "attachments": {},
   "cell_type": "markdown",
   "metadata": {},
   "source": [
    "## 1. <a id='toc1_'></a>[Problem 1: Optimal taxation with government consumption](#toc0_)"
   ]
  },
  {
   "attachments": {},
   "cell_type": "markdown",
   "metadata": {},
   "source": [
    "\n",
    "Consider a worker choosing hours of labor, $L\\in[0,24]$, to maximize utility: \n",
    "\n",
    "$$\n",
    "\\begin{align*}\n",
    "V(w,\\tau,G)&=\\max_{L\\in[0,24]}\\ln\\left(C^{\\alpha}G^{1-\\alpha}\\right)-\\nu\\frac{L^{2}}{2}\\\\&\\text{s.t.}\\\\&C=\\kappa+(1-\\tau)wL\n",
    "\\end{align*}\n",
    "$$\n",
    "\n",
    "where \n",
    "\n",
    "* $C$ is *private* consumption with weight $\\alpha\\in(0,1)$.\n",
    "* $\\kappa > 0$ is the *free private* consumption component.\n",
    "* $C = (1-\\tau)wL$ is the *costly private* consumption component.\n",
    "* $w > 0 $ is the real wage.\n",
    "* $\\tau \\in (0,1)$ is the labor-income tax rate.\n",
    "* $G > 0 $ is *government* consumption with weight $1-\\alpha$.\n",
    "* $\\nu > 0$ is the disutility of labor scaling factor"
   ]
  },
  {
   "attachments": {},
   "cell_type": "markdown",
   "metadata": {},
   "source": [
    "\n",
    "The baseline parameters are:\n",
    "\n",
    "$$\n",
    "\\begin{align*}\n",
    "\\alpha &= 0.5\\\\\n",
    "\\kappa &= 1.0\\\\\n",
    "\\nu &= \\frac{1}{2\\cdot16^2} \\\\\n",
    "w &= 1.0 \\\\ \n",
    "\\tau &= 0.30 \\\\\n",
    "\\end{align*}\n",
    "$$"
   ]
  },
  {
   "attachments": {},
   "cell_type": "markdown",
   "metadata": {},
   "source": [
    "**Question 1:** Verify that the optimal labor supply choice is $L^{\\star}(\\tilde{w}) =\\frac{-\\kappa+\\sqrt{\\kappa^{2}+4\\frac{\\alpha}{\\nu}\\tilde{w}^2}}{2\\tilde{w}}$, where $\\tilde{w} = (1-\\tau)w$, for $G\\in\\left\\{1.0 , 2.0\\right\\}$."
   ]
  },
  {
   "cell_type": "code",
   "execution_count": null,
   "metadata": {},
   "outputs": [],
   "source": [
    "import sympy as sp\n",
    "\n",
    "# define the variables\n",
    "L, w, tau, kappa, alpha, nu, G = sp.symbols('L w tau kappa alpha nu G')\n",
    "\n",
    "# tilde{w}\n",
    "w_tilde = (1 - tau)*w\n",
    "\n",
    "# define the consumption\n",
    "C = kappa + w_tilde*L\n",
    "\n",
    "# define the utility function\n",
    "V = sp.log(C**alpha * G**(1 - alpha)) - nu*L**2 / 2\n",
    "\n",
    "# take derivative of V with respect to L\n",
    "dVdL = sp.diff(V, L)\n",
    "\n",
    "# solve for L\n",
    "solution = sp.solve(dVdL, L)\n",
    "\n",
    "\n",
    "print('The solutions for L are:', solution)"
   ]
  },
  {
   "attachments": {},
   "cell_type": "markdown",
   "metadata": {},
   "source": [
    "Since $sqrt(4α*w^2*(1-τ)^2/ν + κ^2) = sqrt(κ^2 + 4α/ν*tilde{w}^2)$\n",
    "So we have\n",
    "L* = (kappa*nu + sqrt(nu*(4*alpha*tau**2*w**2 - 8*alpha*tau*w**2 + 4*alpha*w**2 + kappa**2*nu)))/(2*nu*w*(tau - 1))\n",
    "Is equal to\n",
    "L* = (-κ + sqrt(κ^2 + 4α/ν*tilde{w}^2))/(2*tilde{w})"
   ]
  },
  {
   "cell_type": "code",
   "execution_count": 2,
   "metadata": {},
   "outputs": [
    {
     "ename": "NameError",
     "evalue": "name 'G' is not defined",
     "output_type": "error",
     "traceback": [
      "\u001b[1;31m---------------------------------------------------------------------------\u001b[0m",
      "\u001b[1;31mNameError\u001b[0m                                 Traceback (most recent call last)",
      "Cell \u001b[1;32mIn[2], line 8\u001b[0m\n\u001b[0;32m      5\u001b[0m L, C, w, tau, kappa, alpha, nu \u001b[39m=\u001b[39m sp\u001b[39m.\u001b[39msymbols(\u001b[39m'\u001b[39m\u001b[39mL C w tau kappa alpha nu\u001b[39m\u001b[39m'\u001b[39m)\n\u001b[0;32m      7\u001b[0m \u001b[39m# Define the utility function\u001b[39;00m\n\u001b[1;32m----> 8\u001b[0m utility \u001b[39m=\u001b[39m sp\u001b[39m.\u001b[39mlog(C\u001b[39m*\u001b[39m\u001b[39m*\u001b[39malpha \u001b[39m*\u001b[39m G\u001b[39m*\u001b[39m\u001b[39m*\u001b[39m(\u001b[39m1\u001b[39m \u001b[39m-\u001b[39m alpha)) \u001b[39m-\u001b[39m nu \u001b[39m*\u001b[39m L\u001b[39m*\u001b[39m\u001b[39m*\u001b[39m\u001b[39m2\u001b[39m \u001b[39m/\u001b[39m \u001b[39m2\u001b[39m\n\u001b[0;32m     10\u001b[0m \u001b[39m# Define the budget constraint\u001b[39;00m\n\u001b[0;32m     11\u001b[0m budget_constraint \u001b[39m=\u001b[39m sp\u001b[39m.\u001b[39mEq(C, kappa \u001b[39m+\u001b[39m (\u001b[39m1\u001b[39m \u001b[39m-\u001b[39m tau) \u001b[39m*\u001b[39m w \u001b[39m*\u001b[39m L)\n",
      "\u001b[1;31mNameError\u001b[0m: name 'G' is not defined"
     ]
    }
   ],
   "source": [
    "# write your code here\n",
    "import sympy as sp\n",
    "\n",
    "# Define the variables\n",
    "L, C, w, tau, kappa, alpha, nu = sp.symbols('L C w tau kappa alpha nu')\n",
    "\n",
    "# Define the utility function\n",
    "utility = sp.log(C**alpha * G**(1 - alpha)) - nu * L**2 / 2\n",
    "\n",
    "# Define the budget constraint\n",
    "budget_constraint = sp.Eq(C, kappa + (1 - tau) * w * L)\n",
    "\n",
    "# Solve for L in the budget constraint\n",
    "L_solution = sp.solve(budget_constraint, L)[0]\n",
    "\n",
    "# Substitute the solution for L in the utility function\n",
    "utility_substituted = utility.subs(L, L_solution)\n",
    "\n",
    "# Simplify the utility function\n",
    "utility_simplified = sp.simplify(utility_substituted)\n",
    "\n",
    "# Display the expression for L_star\n",
    "L_star = sp.symbols('L_star')\n",
    "eq_L_star = sp.Eq(L_star, L_solution)\n",
    "\n",
    "print(\"Optimal labor supply choice L_star:\")\n",
    "sp.pprint(eq_L_star)"
   ]
  },
  {
   "attachments": {},
   "cell_type": "markdown",
   "metadata": {},
   "source": [
    "**Question 2:** Illustrate how $L^{\\star}(\\tilde{w})$ depends on $w$."
   ]
  },
  {
   "cell_type": "code",
   "execution_count": 3,
   "metadata": {},
   "outputs": [
    {
     "data": {
      "image/png": "[encoded data removed]",
      "text/plain": [
       "<Figure size 640x480 with 1 Axes>"
      ]
     },
     "metadata": {},
     "output_type": "display_data"
    }
   ],
   "source": [
    "# write your code here\n",
    "# write your code here\n",
    "import math\n",
    "import numpy as np\n",
    "import matplotlib.pyplot as plt\n",
    "\n",
    "# Parameter values\n",
    "τ = 0.30\n",
    "κ = 1.0\n",
    "α = 0.5\n",
    "ν = 1 / (2 * 16**2)\n",
    "G = 1.0\n",
    "\n",
    "def calculate_optimal_labor_choice(w):\n",
    "    tilde_w = (1 - τ) * w\n",
    "    delta = math.sqrt(κ**2 + 4 * α / ν * tilde_w**2)\n",
    "    L_star = (-κ + delta) / (2 * tilde_w)\n",
    "    return L_star\n",
    "\n",
    "# Calculate L(w) for a range of w values\n",
    "w_values = np.linspace(0.1, 2.0, 100)\n",
    "L_values = [calculate_optimal_labor_choice(w) for w in w_values]\n",
    "\n",
    "# Plot the results\n",
    "plt.plot(w_values, L_values)\n",
    "plt.xlabel(\"Real Wage (w)\")\n",
    "plt.ylabel(\"Optimal Labor Supply (L)\")\n",
    "plt.title(\"Optimal Labor Supply as a function of Real Wage\")\n",
    "plt.grid(True)\n",
    "plt.show()"
   ]
  },
  {
   "attachments": {},
   "cell_type": "markdown",
   "metadata": {},
   "source": [
    "\n",
    "We now consider a government, who chooses $\\tau$ and spend all of the taxes on government consumption so:\n",
    "\n",
    "$$\n",
    "G = \\tau w L^{\\star}((1-\\tau)w)\n",
    "$$\n",
    "\n",
    "**Question 3:** Plot the implied $L$, $G$ and worker utility for a grid of $\\tau$-values.\n"
   ]
  },
  {
   "cell_type": "code",
   "execution_count": 4,
   "metadata": {},
   "outputs": [],
   "source": [
    "# write your code here\n",
    "import numpy as np\n",
    "import matplotlib.pyplot as plt\n",
    "\n",
    "# Define the variables and parameters\n",
    "w = 1.0\n",
    "kappa = 1.0\n",
    "alpha = 0.5\n",
    "nu = 1 / (2 * 16**2)\n",
    "tau_values = np.linspace(0, 1, 100)  # Grid of tau values\n",
    "\n",
    "# Initialize arrays to store results\n",
    "L_values = []\n",
    "G_values = []\n",
    "utility_values = []\n",
    "\n",
    "# Calculate implied L, G, and utility for each tau value\n",
    "for tau in tau_values:\n",
    "    tilde_w = (1 - tau) * w\n",
    "    L_star = (-kappa + np.sqrt(kappa**2 + 4 * alpha / nu * tilde_w**2)) / (2 * tilde_w)\n",
    "    G = tau * w * L_star\n",
    "    utility = np.log((kappa + (1 - tau) * w * L_star)**alpha * G**(1 - alpha)) - nu * L_star**2 / 2\n",
    "\n",
    "    L_values.append(L_star)\n",
    "    G_values.append(G)\n",
    "    utility_values.append(utility)\n",
    "\n",
    "# Plot the results\n",
    "plt.figure(figsize=(10, 6))\n",
    "plt.plot(tau_values, L_values, label='L')\n",
    "plt.plot(tau_values, G_values, label='G')\n",
    "plt.plot(tau_values, utility_values, label='Utility')\n",
    "plt.xlabel('Tax Rate (tau)')\n",
    "plt.ylabel('Value')\n",
    "plt.title('Implications of tau on L, G, and Utility')\n",
    "plt.legend()\n",
    "plt.grid(True)\n",
    "plt.show()"
   ]
  },
  {
   "attachments": {},
   "cell_type": "markdown",
   "metadata": {},
   "source": [
    "**Question 4:** Find the socially optimal tax rate $\\tau^{\\star}\\in(0,1)$ maximizing worker utility. Illustrate your result."
   ]
  },
  {
   "cell_type": "code",
   "execution_count": 1,
   "metadata": {},
   "outputs": [
    {
     "name": "stdout",
     "output_type": "stream",
     "text": [
      "Optimal tax rate (tau_star): 0.5145311264139927\n",
      "Maximized worker utility: 1.8591992509323028\n"
     ]
    },
    {
     "name": "stderr",
     "output_type": "stream",
     "text": [
      "C:\\Users\\andre\\AppData\\Local\\Temp\\ipykernel_23140\\2023066052.py:16: RuntimeWarning: divide by zero encountered in log\n",
      "  utility = np.log((kappa + (1 - tau) * w * L_star)**alpha * (tau * w * L_star)**(1 - alpha)) - nu * L_star**2 / 2\n",
      "C:\\Users\\andre\\AppData\\Local\\Temp\\ipykernel_23140\\2023066052.py:15: RuntimeWarning: invalid value encountered in scalar divide\n",
      "  L_star = (-kappa + np.sqrt(kappa**2 + 4 * alpha / nu * tilde_w**2)) / (2 * tilde_w)\n"
     ]
    },
    {
     "data": {
      "image/png": "[encoded data removed]",
      "text/plain": [
       "<Figure size 800x600 with 1 Axes>"
      ]
     },
     "metadata": {},
     "output_type": "display_data"
    }
   ],
   "source": [
    "# write your code here\n",
    "import numpy as np\n",
    "import matplotlib.pyplot as plt\n",
    "from scipy.optimize import minimize\n",
    "\n",
    "# Define the variables and parameters\n",
    "w = 1.0\n",
    "kappa = 1.0\n",
    "alpha = 0.5\n",
    "nu = 1 / (2 * 16**2)\n",
    "\n",
    "# Define the worker utility function\n",
    "def worker_utility(tau):\n",
    "    tilde_w = (1 - tau) * w\n",
    "    L_star = (-kappa + np.sqrt(kappa**2 + 4 * alpha / nu * tilde_w**2)) / (2 * tilde_w)\n",
    "    utility = np.log((kappa + (1 - tau) * w * L_star)**alpha * (tau * w * L_star)**(1 - alpha)) - nu * L_star**2 / 2\n",
    "    return -utility  # Negative sign for maximization\n",
    "\n",
    "# Perform numerical optimization to find the optimal tau\n",
    "result = minimize(worker_utility, x0=0.5, bounds=[(0, 1)])\n",
    "\n",
    "tau_star = result.x[0]\n",
    "utility_star = -result.fun\n",
    "\n",
    "print(\"Optimal tax rate (tau_star):\", tau_star)\n",
    "print(\"Maximized worker utility:\", utility_star)\n",
    "\n",
    "# Plot the worker utility function\n",
    "tau_values = np.linspace(0, 1, 100)\n",
    "utility_values = [-worker_utility(tau) for tau in tau_values]\n",
    "\n",
    "plt.figure(figsize=(8, 6))\n",
    "plt.plot(tau_values, utility_values)\n",
    "plt.scatter(tau_star, utility_star, color='red', label='Maximized Utility')\n",
    "plt.xlabel('Tax Rate (tau)')\n",
    "plt.ylabel('Worker Utility')\n",
    "plt.title('Worker Utility as a Function of Tax Rate')\n",
    "plt.legend()\n",
    "plt.grid(True)\n",
    "plt.show()"
   ]
  },
  {
   "attachments": {},
   "cell_type": "markdown",
   "metadata": {},
   "source": [
    "A more general preference formulation for the worker is:\n",
    "\n",
    "$$\n",
    "\\begin{align*}\n",
    "\\mathcal{V}(w,\\tau,G)&=\\max_{L\\in[0,24]}\\frac{\\left[ \\left( \\alpha C^{\\frac{\\sigma-1}{\\sigma}}+(1-\\alpha) G^{\\frac{\\sigma-1}{\\sigma}} \\right)^{\\frac{\\sigma}{1-\\sigma} }\\right]^{1-\\rho}-1}{1-\\rho}- \\nu\\frac{L^{1+\\varepsilon}}{1+\\varepsilon},\\,\\,\\,\\varepsilon,\\rho,\\sigma>0,\\,\\,\\,\\rho,\\sigma\\neq1\\\\&\\text{s.t.}\\\\&C=\\kappa+(1-\\tau)wL\n",
    "\\end{align*}    \n",
    "$$\n",
    "\n",
    "Optimal labor supply is now $L^{\\star}(\\tilde{w},G)$."
   ]
  },
  {
   "attachments": {},
   "cell_type": "markdown",
   "metadata": {},
   "source": [
    "Questions 5 and 6 must be answered with the general formulation, and for 2 different set of parameters:\n",
    "\n",
    "- Set 1:  $\\sigma = 1.001$, $\\rho = 1.001$ and $\\varepsilon = 1.0$.\n",
    "- Set 2:  $\\sigma = 1.5$, $\\rho = 1.5$ and $\\varepsilon = 1.0 $."
   ]
  },
  {
   "attachments": {},
   "cell_type": "markdown",
   "metadata": {},
   "source": [
    "**Question 5:** Find the $G$ that solves $G = \\tau w L^{\\star}((1-\\tau)w,G)$ using the $\\tau$ found in question 4.\n",
    "\n",
    "*Hint: First write code that solves the worker problem for given values of $G$ and $\\tau$. Then find the correct G based on this.*"
   ]
  },
  {
   "cell_type": "code",
   "execution_count": 12,
   "metadata": {},
   "outputs": [
    {
     "name": "stdout",
     "output_type": "stream",
     "text": [
      "Optimal Labor Supply (L^*): 23.999995716813203\n"
     ]
    }
   ],
   "source": [
    "import numpy as np\n",
    "from scipy.optimize import minimize_scalar\n",
    "\n",
    "# Given parameter values\n",
    "tau = 0.540\n",
    "kappa = 1.0\n",
    "alpha = 0.5\n",
    "nu = 1 / (2 * 16 ** 2)\n",
    "sigma = 1.001\n",
    "rho = 1.001\n",
    "epsilon = 1.0\n",
    "w = 1.0\n",
    "G = 1.0  # The value of G to substitute in the equation\n",
    "\n",
    "# Define the objective function\n",
    "def objective_function(L):\n",
    "    C = kappa + (1 - tau) * w * L\n",
    "    value = G - tau * w * ((alpha * C ** ((sigma - 1) / sigma) + (1 - alpha) * G ** ((sigma - 1) / sigma)) ** (sigma / (1 - sigma))) ** (1 - rho) * (1 - rho) / (alpha * C ** ((sigma - 1) / sigma) + (1 - alpha) * G ** ((sigma - 1) / sigma)) - nu * (L ** (1 + epsilon)) / (1 + epsilon)\n",
    "    return value\n",
    "\n",
    "# Find the value of L^* that satisfies the equation\n",
    "initial_guess = 1.0  # Initial guess for L\n",
    "optimization_result = minimize_scalar(objective_function, bounds=(0, 24), method='bounded')\n",
    "\n",
    "# Extract the optimal L value\n",
    "L_star = optimization_result.x\n",
    "\n",
    "# Print the optimal L value\n",
    "print(\"Optimal Labor Supply (L^*):\", L_star)"
   ]
  },
  {
   "cell_type": "code",
   "execution_count": 13,
   "metadata": {},
   "outputs": [
    {
     "name": "stdout",
     "output_type": "stream",
     "text": [
      "Optimal G value (G^*): 5.749176315178768e-09\n"
     ]
    }
   ],
   "source": [
    "import numpy as np\n",
    "from scipy.optimize import minimize_scalar\n",
    "\n",
    "# Given parameter values\n",
    "tau = 0.540\n",
    "kappa = 1.0\n",
    "alpha = 0.5\n",
    "nu = 1 / (2 * 16 ** 2)\n",
    "sigma = 1.001\n",
    "rho = 1.001\n",
    "epsilon = 1.0\n",
    "w = 1.0\n",
    "\n",
    "# Define the equation to solve for G\n",
    "def equation_to_solve(G):\n",
    "    L_star = 23.999995716813203\n",
    "    return G - tau * w * L_star\n",
    "\n",
    "# Find the value of G that satisfies the equation\n",
    "initial_guess = 1.0  # Initial guess for G\n",
    "optimization_result = minimize_scalar(equation_to_solve, bounds=(0, 100), method='bounded', options={'xatol': 1e-8})\n",
    "\n",
    "# Extract the optimal G value\n",
    "G_star = optimization_result.x\n",
    "\n",
    "# Print the optimal G value\n",
    "print(\"Optimal G value (G^*):\", G_star)"
   ]
  },
  {
   "attachments": {},
   "cell_type": "markdown",
   "metadata": {},
   "source": [
    "**Question 6:** Find the socially optimal tax rate, $\\tau^{\\star}$, maximizing worker utility, while keeping $G = \\tau w L^{\\star}((1-\\tau)w,G)$."
   ]
  },
  {
   "cell_type": "code",
   "execution_count": 7,
   "metadata": {},
   "outputs": [],
   "source": [
    "# write your code here  "
   ]
  },
  {
   "attachments": {},
   "cell_type": "markdown",
   "metadata": {},
   "source": [
    "## 2. <a id='toc2_'></a>[Problem 2: Labor adjustment costs](#toc0_)"
   ]
  },
  {
   "attachments": {},
   "cell_type": "markdown",
   "metadata": {},
   "source": [
    "You own a hair salon. You employ hairdressers, $\\ell_t$, to produce haircuts, $y_t = \\ell_t$.\n",
    "\n",
    "The wage for each haridresser is $w$.\n",
    "\n",
    "The demand for haircuts implies that the price of haircuts you can charge is $p_t = \\kappa_t y_t^{-\\eta}$, where $\\kappa_t$ is a demand-shock and $\\eta \\in (0,1)$ measures the elasticity of demand.\n",
    "\n",
    "Profits are:\n",
    "\n",
    "$$\n",
    "\\Pi_t = p_t y_t - w \\ell_t = \\kappa_t \\ell_t^{1-\\eta} - w \\ell_t\n",
    "$$"
   ]
  },
  {
   "attachments": {},
   "cell_type": "markdown",
   "metadata": {},
   "source": [
    "Baseline parameters are:\n",
    "- $\\eta = 0.5$\n",
    "- $w = 1.0$"
   ]
  },
  {
   "attachments": {},
   "cell_type": "markdown",
   "metadata": {},
   "source": [
    "**Question 1:** Verify numerically that $\\ell_{t}=\\left(\\frac{(1-\\eta)\\kappa_{t}}{w}\\right)^{\\frac{1}{\\eta}}$ maximises profits, for $\\kappa\\in\\left\\{1.0 , 2.0\\right\\}$."
   ]
  },
  {
   "cell_type": "code",
   "execution_count": 4,
   "metadata": {},
   "outputs": [
    {
     "name": "stdout",
     "output_type": "stream",
     "text": [
      "For kappa = 1.0:\n",
      "The optimal number of hairdressers (ell_t) is: 1.00000000000000\n",
      "The maximum profit is: 0.250000000000000\n",
      "\n",
      "For kappa = 2.0:\n",
      "The optimal number of hairdressers (ell_t) is: 1.00000000000000\n",
      "The maximum profit is: 1.00000000000000\n",
      "\n"
     ]
    }
   ],
   "source": [
    "# write your code here\n",
    "import sympy as sp\n",
    "\n",
    "# Define the symbols\n",
    "ell_t, kappa_t, eta, w = sp.symbols('ell_t kappa_t eta w')\n",
    "\n",
    "# Define the profit function\n",
    "profit = kappa_t * ell_t**(1 - eta) - w * ell_t\n",
    "\n",
    "# Set the baseline parameters\n",
    "eta_value = 0.5\n",
    "w_value = 1.0\n",
    "\n",
    "# Calculate the profit for different values of ell_t and verify the maximum\n",
    "kappa_values = [1.0, 2.0]\n",
    "for kappa in kappa_values:\n",
    "    # Calculate the ell_t that maximizes the profit\n",
    "    ell_optimal = sp.solve(sp.diff(profit.subs([(kappa_t, kappa), (eta, eta_value), (w, w_value)]), ell_t), ell_t)[0]\n",
    "    # Calculate the maximum profit\n",
    "    profit_max = profit.subs([(kappa_t, kappa), (eta, eta_value), (w, w_value), (ell_t, ell_optimal)])\n",
    "    \n",
    "    # Ensure ell_optimal is a whole number\n",
    "    ell_optimal = sp.ceiling(ell_optimal)\n",
    "    \n",
    "    # Print the results\n",
    "    print(f'For kappa = {kappa}:')\n",
    "    print(f'The optimal number of hairdressers (ell_t) is: {ell_optimal.evalf()}')\n",
    "    print(f'The maximum profit is: {profit_max.evalf()}\\n')"
   ]
  },
  {
   "attachments": {},
   "cell_type": "markdown",
   "metadata": {},
   "source": [
    "We now consider a *dynamic* version of the model.\n",
    "\n",
    "* The demand-shock is a so-called AR(1) in logs, \n",
    "\n",
    "$$\n",
    "\\log \\kappa_{t} = \\rho \\log \\kappa_{t-1} + \\epsilon_{t},\\,\\,\\, \\epsilon_{t+1} \\sim \\mathcal{N}(-0.5\\sigma_{\\epsilon}^2,\\sigma_{\\epsilon})\n",
    "$$\n",
    "\n",
    "* Any hiring or firing implies a fixed adjustment cost, $\\iota > 0 $.\n",
    "* Future profits are discounted with a monthly factor of $R \\in (0,1)$.\n",
    "\n",
    "The initial demand shock is $\\kappa_{-1} = 1$ and the planning horizon is 10 years, i.e. 120 months so $t \\in \\{0,1,2,\\dots,119\\}$. Initially you don't have any employees, $\\ell_{-1}=0$"
   ]
  },
  {
   "attachments": {},
   "cell_type": "markdown",
   "metadata": {},
   "source": [
    "\n",
    "The *ex post* value of the salon is *conditional* on the shock series is:\n",
    "\n",
    "$$\n",
    "h(\\epsilon_0,\\epsilon_1,\\dots,\\epsilon_{119}) = \\left[\\sum_{t=0}^{119}R^{-t}\\left[\\kappa_{t}\\ell_{t}^{1-\\eta}-w\\ell_{t}-\\boldsymbol{1}_{\\ell_{t}\\neq\\ell_{t-1}}\\iota\\right]\\right]\n",
    "$$\n",
    "\n",
    "The *ex ante* expected value of the salon can be approximated by\n",
    "\n",
    "$$\n",
    "H = \\mathbb{E}[h(\\epsilon_0,\\epsilon_1,\\dots,\\epsilon_{119})] \\approx \\frac{1}{K}\\sum_{k=0}^{K} h(\\epsilon_0^k,\\epsilon_1^k,\\dots,\\epsilon_{119}^k)\n",
    "$$\n",
    "\n",
    "where each $k\\in\\{0,1,\\dots,K-1\\}$ is a random shock series. Maximizing profitability means maximizing $H$.\n"
   ]
  },
  {
   "attachments": {},
   "cell_type": "markdown",
   "metadata": {},
   "source": [
    "Baseline parameters are: \n",
    "\n",
    "- $\\rho = 0.90$\n",
    "- $\\iota = 0.01$\n",
    "- $\\sigma_{\\epsilon} = 0.10$\n",
    "- $R = \\left(1+0.01\\right)^{1/12}$"
   ]
  },
  {
   "attachments": {},
   "cell_type": "markdown",
   "metadata": {},
   "source": [
    "**Question 2:** Calculate $H$ if the policy  $\\ell_{t}=\\left(\\frac{(1-\\eta)\\kappa_{t}}{w}\\right)^{\\frac{1}{\\eta}}$ from question 1 is followed. Choose $K$ so the approximation is good enough to not affect your results substantially."
   ]
  },
  {
   "cell_type": "code",
   "execution_count": 9,
   "metadata": {},
   "outputs": [],
   "source": [
    "# write your code here "
   ]
  },
  {
   "attachments": {},
   "cell_type": "markdown",
   "metadata": {},
   "source": [
    "Next, we consider policies on the form:\n",
    "\n",
    "$$\n",
    "\n",
    "\\ell_{t}=\\begin{cases}\n",
    "\\ell_t^{\\ast}  & \\text{if }\\left|\\ell_{t-1}-\\ell_t^{\\ast} \\right|>\\Delta\\\\\n",
    "\\ell_{t-1} & \\text{else }\n",
    "\\end{cases}\n",
    "\\\\\n",
    "\\text{where}\\,\\,\\ell_t^{\\ast} = \\left(\\frac{(1-\\eta)\\kappa_{t}}{w}\\right)^{\\frac{1}{\\eta}} \\\\\n",
    "\n",
    "$$\n",
    "With $\\Delta \\geq 0$ and $\\Delta = 0$ being the previous policy.\n"
   ]
  },
  {
   "attachments": {},
   "cell_type": "markdown",
   "metadata": {},
   "source": [
    "\n",
    "**Question 3:** Calculate $H$ if the policy above was followed with $\\Delta = 0.05$. Does it improve profitability?"
   ]
  },
  {
   "cell_type": "code",
   "execution_count": 10,
   "metadata": {},
   "outputs": [],
   "source": [
    "# write your code here"
   ]
  },
  {
   "attachments": {},
   "cell_type": "markdown",
   "metadata": {},
   "source": [
    "**Question 4:** Find the optimal $\\Delta$ maximizing $H$. Illustrate your result."
   ]
  },
  {
   "cell_type": "code",
   "execution_count": 11,
   "metadata": {},
   "outputs": [],
   "source": [
    "# write your code here"
   ]
  },
  {
   "attachments": {},
   "cell_type": "markdown",
   "metadata": {},
   "source": [
    "\n",
    "**Question 5:** Suggest an alternative policy you believe might improve profitability. Implement and test your policy.\n",
    "\n"
   ]
  },
  {
   "cell_type": "code",
   "execution_count": 12,
   "metadata": {},
   "outputs": [],
   "source": [
    "# write your code here"
   ]
  },
  {
   "attachments": {},
   "cell_type": "markdown",
   "metadata": {},
   "source": [
    "## 3. <a id='toc3_'></a>[Problem 3: Global optimizer with refined multi-start](#toc0_)"
   ]
  },
  {
   "attachments": {},
   "cell_type": "markdown",
   "metadata": {},
   "source": [
    "We consider the Griewank function:\n",
    "\n",
    "$$ f(\\boldsymbol{x}) = \\sum^n_{i=1} \\frac{x^2_i}{4000}-\\prod^n_{i=1}\\cos\\left(\\frac{x_i}{\\sqrt{i}}\\right)+1$$\n",
    "\n",
    "The **global minimum** of this function is $f(0,0) = 0$ (remember: $\\cos(0)=1$).<br>\n",
    "But the function also have a lot of **local minima**."
   ]
  },
  {
   "cell_type": "code",
   "execution_count": 13,
   "metadata": {},
   "outputs": [],
   "source": [
    "def griewank(x):\n",
    "    return griewank_(x[0],x[1])\n",
    "    \n",
    "def griewank_(x1,x2):\n",
    "    A = x1**2/4000 + x2**2/4000\n",
    "    B = np.cos(x1/np.sqrt(1))*np.cos(x2/np.sqrt(2))\n",
    "    return A-B+1"
   ]
  },
  {
   "attachments": {},
   "cell_type": "markdown",
   "metadata": {},
   "source": [
    "A **refined global optimizer with multi-start** is:\n",
    "\n",
    "1. Choose *bounds* for $\\mathbf{x}$ and *tolerance* $\\tau > 0$.\n",
    "2. Choose number of *warm-up iterations*, $\\underline{K} > 0$ and *maximum number of iterations*, $K > \\underline{K}$.\n",
    "3. In each iteration for $k \\in \\{0,1,\\dots,K-1\\}$:\n",
    "\n",
    "    A. Draw random $\\mathbf{x}^k$ uniformly within chosen bounds.\n",
    "\n",
    "    B. If $k < \\underline{K}$ go to step E.\n",
    "\n",
    "    C. Calculate $\\chi^k = 0.50\\cdot\\frac{2}{1+\\exp((k-\\underline{K})/100)}$  \n",
    "\n",
    "    D. Set $\\mathbf{x}^{k0} = \\chi^k \\mathbf{x}^k + (1-\\chi^k)\\mathbf{x}^{\\ast} $\n",
    "\n",
    "    E. Run optimizer with $\\mathbf{x}^{k0}$ as initial guess and $\\mathbf{x}^{k\\ast}$ as result.\n",
    "\n",
    "    F. Set $\\mathbf{x}^{\\ast} = \\mathbf{x}^{k\\ast}$ if $k = 0$ or $f(\\mathbf{x}^{k\\ast}) < f(\\mathbf{x}^{\\ast})$\n",
    "\n",
    "    G. If $f(\\mathbf{x}^{\\ast}) < \\tau$ go to step 4.\n",
    "\n",
    "4. Return the result $\\mathbf{x}^{\\ast}$."
   ]
  },
  {
   "attachments": {},
   "cell_type": "markdown",
   "metadata": {},
   "source": [
    "As settings we choose:\n",
    "\n",
    "* $x_1,x_2 \\in  [-600,600]$\n",
    "* $\\tau = 10^{-8}$\n",
    "* $\\underline{K}=10$\n",
    "* $K=1000$\n",
    "\n",
    "The optimizer in Step 3.E is `BFGS` with a tolerance of $\\tau$."
   ]
  },
  {
   "attachments": {},
   "cell_type": "markdown",
   "metadata": {},
   "source": [
    "**Question 1:** Implement the refined global optimizer with multi-start. Illustrate how the effective initial guesses $\\mathbf{x}^{k0}$ vary with the iteration counter $k$."
   ]
  },
  {
   "cell_type": "code",
   "execution_count": 14,
   "metadata": {},
   "outputs": [],
   "source": [
    "# write your code here\n",
    "import numpy as np\n",
    "from scipy.optimize import minimize\n",
    "import matplotlib.pyplot as plt\n",
    "\n",
    "def objective_function(x):\n",
    "    return griewank([x[0], x[1]])\n",
    "\n",
    "def griewank(x):\n",
    "    return griewank_(x[0], x[1])\n",
    "\n",
    "def griewank_(x1, x2):\n",
    "    A = x1 ** 2 / 4000 + x2 ** 2 / 4000\n",
    "    B = np.cos(x1 / np.sqrt(1)) * np.cos(x2 / np.sqrt(2))\n",
    "    return A - B + 1\n",
    "\n",
    "def refined_global_optimizer(bounds, tau, K_warmup, K, optimizer):\n",
    "    x_star = None\n",
    "    x0_values = []\n",
    "\n",
    "    for k in range(K):\n",
    "        x_k = np.random.uniform(bounds[0], bounds[1], size=2)\n",
    "        \n",
    "        if k >= K_warmup:\n",
    "            chi_k = 0.50 * (2 / (1 + np.exp((k - K_warmup) / 100)))\n",
    "            x_k0 = chi_k * x_k + (1 - chi_k) * x_star\n",
    "        else:\n",
    "            x_k0 = x_k\n",
    "        \n",
    "        res = minimize(objective_function, x_k0, method=optimizer, tol=tau)\n",
    "        x_k_star = res.x\n",
    "        \n",
    "        if x_star is None or objective_function(x_k_star) < objective_function(x_star):\n",
    "            x_star = x_k_star\n",
    "        \n",
    "        x0_values.append(x_k0)\n",
    "\n",
    "        if objective_function(x_star) < tau:\n",
    "            break\n",
    "    \n",
    "    return x_star, x0_values\n",
    "\n",
    "# Settings\n",
    "bounds = [-600, 600]\n",
    "tau = 1e-8\n",
    "K_warmup = 10\n",
    "K = 1000\n",
    "\n",
    "# Run refined global optimizer\n",
    "x_star, x0_values = refined_global_optimizer(bounds, tau, K_warmup, K, 'BFGS')\n",
    "\n",
    "# Plotting the effective initial guesses\n",
    "x0_values = np.array(x0_values)\n",
    "plt.plot(x0_values[:, 0], x0_values[:, 1], 'bo', markersize=3)\n",
    "plt.plot(x_star[0], x_star[1], 'ro', label='Final Solution')\n",
    "plt.xlabel('x1')\n",
    "plt.ylabel('x2')\n",
    "plt.title('Effective Initial Guesses')\n",
    "plt.legend()\n",
    "plt.grid(True)\n",
    "plt.show()"
   ]
  },
  {
   "attachments": {},
   "cell_type": "markdown",
   "metadata": {},
   "source": [
    "**Question 2:** Is it a better idea to set $\\underline{K} = 100$? Is the convergence faster?"
   ]
  },
  {
   "cell_type": "code",
   "execution_count": 15,
   "metadata": {},
   "outputs": [],
   "source": [
    "# write your code here\n",
    "import numpy as np\n",
    "from scipy.optimize import minimize\n",
    "import matplotlib.pyplot as plt\n",
    "\n",
    "def objective_function(x):\n",
    "    return griewank([x[0], x[1]])\n",
    "\n",
    "def griewank(x):\n",
    "    return griewank_(x[0], x[1])\n",
    "\n",
    "def griewank_(x1, x2):\n",
    "    A = x1 ** 2 / 4000 + x2 ** 2 / 4000\n",
    "    B = np.cos(x1 / np.sqrt(1)) * np.cos(x2 / np.sqrt(2))\n",
    "    return A - B + 1\n",
    "\n",
    "def refined_global_optimizer(bounds, tau, K_warmup, K, optimizer):\n",
    "    x_star = None\n",
    "    x0_values = []\n",
    "    objective_values = []\n",
    "\n",
    "    for k in range(K):\n",
    "        x_k = np.random.uniform(bounds[0], bounds[1], size=2)\n",
    "        \n",
    "        if k >= K_warmup:\n",
    "            chi_k = 0.50 * (2 / (1 + np.exp((k - K_warmup) / 100)))\n",
    "            x_k0 = chi_k * x_k + (1 - chi_k) * x_star\n",
    "        else:\n",
    "            x_k0 = x_k\n",
    "        \n",
    "        res = minimize(objective_function, x_k0, method=optimizer, tol=tau)\n",
    "        x_k_star = res.x\n",
    "        f_k_star = objective_function(x_k_star)\n",
    "        \n",
    "        if x_star is None or f_k_star < objective_function(x_star):\n",
    "            x_star = x_k_star\n",
    "        \n",
    "        x0_values.append(x_k0)\n",
    "        objective_values.append(f_k_star)\n",
    "\n",
    "        if f_k_star < tau:\n",
    "            break\n",
    "    \n",
    "    return x_star, x0_values, objective_values\n",
    "\n",
    "# Settings\n",
    "bounds = [-600, 600]\n",
    "tau = 1e-8\n",
    "K_warmup = 100\n",
    "K = 1000\n",
    "\n",
    "# Run refined global optimizer\n",
    "x_star, x0_values, objective_values = refined_global_optimizer(bounds, tau, K_warmup, K, 'BFGS')\n",
    "\n",
    "# Plotting the effective initial guesses\n",
    "x0_values = np.array(x0_values)\n",
    "plt.plot(x0_values[:, 0], x0_values[:, 1], 'bo', markersize=3)\n",
    "plt.plot(x_star[0], x_star[1], 'ro', label='Final Solution')\n",
    "plt.xlabel('x1')\n",
    "plt.ylabel('x2')\n",
    "plt.title('Effective Initial Guesses (K_warmup = 100)')\n",
    "plt.legend()\n",
    "plt.grid(True)\n",
    "plt.show()\n",
    "\n",
    "# Plotting the convergence\n",
    "iterations = np.arange(len(objective_values))\n",
    "plt.plot(iterations, objective_values)\n",
    "plt.xlabel('Iteration')\n",
    "plt.ylabel('Objective Function Value')\n",
    "plt.title('Convergence')\n",
    "plt.grid(True)\n",
    "plt.show()"
   ]
  }
 ],
 "metadata": {
  "kernelspec": {
   "display_name": "base",
   "language": "python",
   "name": "python3"
  },
  "language_info": {
   "codemirror_mode": {
    "name": "ipython",
    "version": 3
   },
   "file_extension": ".py",
   "mimetype": "text/x-python",
   "name": "python",
   "nbconvert_exporter": "python",
   "pygments_lexer": "ipython3",
   "version": "3.10.10"
  },
  "orig_nbformat": 4
 },
 "nbformat": 4,
 "nbformat_minor": 2
}
