{
 "cells": [
  {
   "cell_type": "markdown",
   "metadata": {},
   "source": [
    "# Inaugural Project"
   ]
  },
  {
   "cell_type": "markdown",
   "metadata": {},
   "source": [
    "> **Note the following:** \n",
    "> 1. This is an example of how to structure your **inaugural project**.\n",
    "> 1. Remember the general advice on structuring and commenting your code\n",
    "> 1. The `inauguralproject.py` file includes a function which can be used multiple times in this notebook."
   ]
  },
  {
   "cell_type": "markdown",
   "metadata": {},
   "source": [
    "Imports and set magics:"
   ]
  },
  {
   "cell_type": "code",
   "execution_count": 1,
   "metadata": {},
   "outputs": [],
   "source": [
    "import numpy as np\n",
    "import matplotlib.pyplot as plt\n",
    "from matplotlib import cm # for colormaps\n",
    "import pandas as pd\n",
    "import scipy.optimize as opt\n",
    "import seaborn as sns\n",
    "\n",
    "\n",
    "# autoreload modules when code is run. Otherwise, python will not see recent changes. \n",
    "%load_ext autoreload\n",
    "%autoreload 2\n",
    "\n",
    "# Import your own code\n",
    "from inauguralproject2 import HouseholdSpecializationModelClass"
   ]
  },
  {
   "cell_type": "markdown",
   "metadata": {},
   "source": [
    "# Question 1"
   ]
  },
  {
   "cell_type": "code",
   "execution_count": 2,
   "metadata": {},
   "outputs": [
    {
     "name": "stdout",
     "output_type": "stream",
     "text": [
      "0.001 0.001 1.0 1.0\n"
     ]
    }
   ],
   "source": [
    "model=HouseholdSpecializationModelClass()"
   ]
  },
  {
   "cell_type": "markdown",
   "metadata": {},
   "source": [
    "First we create a 3x3 array filled with 0, to build on top of."
   ]
  },
  {
   "cell_type": "code",
   "execution_count": 3,
   "metadata": {},
   "outputs": [],
   "source": [
    "HFHM=np.zeros([3,3])"
   ]
  },
  {
   "cell_type": "markdown",
   "metadata": {},
   "source": [
    "We Define the values of alpha and sigma."
   ]
  },
  {
   "cell_type": "code",
   "execution_count": 4,
   "metadata": {},
   "outputs": [],
   "source": [
    "alpha_list = [0.25,0.5,0.75]\n",
    "sigma_list = [0.5,1,1.5]"
   ]
  },
  {
   "cell_type": "markdown",
   "metadata": {},
   "source": [
    "In this loop we iterate over the values of alpha and sigma. We set alpha's and sigma's equal to the values in discrete model solution from householdspecialization. Finally we define the HF/HM."
   ]
  },
  {
   "cell_type": "code",
   "execution_count": 5,
   "metadata": {},
   "outputs": [
    {
     "name": "stderr",
     "output_type": "stream",
     "text": [
      "/Users/rachelrea/Library/Mobile Documents/com~apple~CloudDocs/IT and Cognition/Intro to prog/inauguralproject/inauguralproject2.py:67: RuntimeWarning: divide by zero encountered in reciprocal\n",
      "  H = ((1 - par.alpha) * HM**((par.sigma - 1) / par.sigma) + par.alpha * HF**((par.sigma - 1) / par.sigma))**(par.sigma / (par.sigma - 1))\n"
     ]
    }
   ],
   "source": [
    "for it, alpha in enumerate(alpha_list):\n",
    "    for jt, sigma in enumerate(sigma_list):\n",
    "        model.par.alpha=alpha\n",
    "        model.par.sigma=sigma\n",
    "        opt=model.solve_discrete()\n",
    "        HFHM[it,jt]=opt.HF/opt.HM"
   ]
  },
  {
   "cell_type": "markdown",
   "metadata": {},
   "source": [
    "We create a meshgrid, where aplha and sigma repressent the x and y values respictively in the following plots."
   ]
  },
  {
   "cell_type": "code",
   "execution_count": 6,
   "metadata": {},
   "outputs": [
    {
     "name": "stdout",
     "output_type": "stream",
     "text": [
      "[[0.54545455 0.30769231 0.21428571]\n",
      " [1.         1.         1.        ]\n",
      " [1.83333333 3.25       4.66666667]]\n"
     ]
    }
   ],
   "source": [
    "print(HFHM)\n",
    "alpha_list,sigma_list = np.meshgrid(alpha_list,sigma_list,indexing='ij')"
   ]
  },
  {
   "cell_type": "markdown",
   "metadata": {},
   "source": [
    "We create a 3d plot"
   ]
  },
  {
   "cell_type": "code",
   "execution_count": 7,
   "metadata": {},
   "outputs": [
    {
     "data": {
      "image/png": "[encoded data removed]",
      "text/plain": [
       "<Figure size 432x288 with 1 Axes>"
      ]
     },
     "metadata": {
      "needs_background": "light"
     },
     "output_type": "display_data"
    }
   ],
   "source": [
    "fig = plt.figure()\n",
    "ax = fig.add_subplot(1,1,1,projection='3d')\n",
    "\n",
    "ax.plot_surface(alpha_list,sigma_list,HFHM,cmap=cm.jet)\n",
    "ax.invert_xaxis()"
   ]
  },
  {
   "cell_type": "markdown",
   "metadata": {},
   "source": [
    "# Question 2"
   ]
  },
  {
   "cell_type": "markdown",
   "metadata": {},
   "source": [
    "We reset model paramaters from q1"
   ]
  },
  {
   "cell_type": "code",
   "execution_count": 8,
   "metadata": {},
   "outputs": [],
   "source": [
    "model.par.sigma =1\n",
    "model.par.alpha =0.5"
   ]
  },
  {
   "cell_type": "markdown",
   "metadata": {},
   "source": [
    "We define the 5 values that WF can take"
   ]
  },
  {
   "cell_type": "code",
   "execution_count": 9,
   "metadata": {},
   "outputs": [],
   "source": [
    "WF_list = [0.8, 0.9, 1, 1.1, 1.2]"
   ]
  },
  {
   "cell_type": "markdown",
   "metadata": {},
   "source": [
    "Log transformation. WM is normalized to 1."
   ]
  },
  {
   "cell_type": "code",
   "execution_count": 10,
   "metadata": {},
   "outputs": [],
   "source": [
    "logWF = np.log(WF_list)"
   ]
  },
  {
   "cell_type": "markdown",
   "metadata": {},
   "source": [
    "We create another array filled with 0, which will be filled in in the next loop."
   ]
  },
  {
   "cell_type": "code",
   "execution_count": 11,
   "metadata": {},
   "outputs": [],
   "source": [
    "logHFHM = np.zeros(len(WF_list))"
   ]
  },
  {
   "cell_type": "markdown",
   "metadata": {},
   "source": [
    "Basically the same operation as in the q1 loop."
   ]
  },
  {
   "cell_type": "code",
   "execution_count": 12,
   "metadata": {},
   "outputs": [],
   "source": [
    "for it, wf in enumerate(WF_list):\n",
    "    model.par.wF = wf\n",
    "    opt = model.solve_discrete()\n",
    "    logHFHM[it] = np.log(opt.HF / opt.HM)\n"
   ]
  },
  {
   "cell_type": "markdown",
   "metadata": {},
   "source": [
    "Finally, we make the plot"
   ]
  },
  {
   "cell_type": "code",
   "execution_count": 13,
   "metadata": {},
   "outputs": [
    {
     "data": {
      "image/png": "[encoded data removed]",
      "text/plain": [
       "<Figure size 432x288 with 1 Axes>"
      ]
     },
     "metadata": {
      "needs_background": "light"
     },
     "output_type": "display_data"
    }
   ],
   "source": [
    "plt.plot(logWF, logHFHM)\n",
    "plt.xlabel('log(WF/WM)')\n",
    "plt.ylabel('log(HF/HM)')\n",
    "plt.show()"
   ]
  },
  {
   "cell_type": "markdown",
   "metadata": {},
   "source": [
    "# Question 3"
   ]
  },
  {
   "cell_type": "markdown",
   "metadata": {},
   "source": [
    "Explain your code and procedure"
   ]
  },
  {
   "cell_type": "markdown",
   "metadata": {},
   "source": [
    "Reset parameters"
   ]
  },
  {
   "cell_type": "code",
   "execution_count": 14,
   "metadata": {},
   "outputs": [],
   "source": [
    "model.par.alpha = 0.5\n",
    "model.par.sigma = 1"
   ]
  },
  {
   "cell_type": "markdown",
   "metadata": {},
   "source": [
    "Printing the model"
   ]
  },
  {
   "cell_type": "code",
   "execution_count": 15,
   "metadata": {},
   "outputs": [
    {
     "data": {
      "image/png": "[encoded data removed]",
      "text/plain": [
       "<Figure size 432x288 with 1 Axes>"
      ]
     },
     "metadata": {
      "needs_background": "light"
     },
     "output_type": "display_data"
    }
   ],
   "source": [
    "model.solve_wF_vec()\n",
    "WF_list = [0.8, 0.9, 1, 1.1, 1.2]\n",
    "logWF = np.log(WF_list)\n",
    "logHFHM=np.log(model.sol.HF_vec/model.sol.HM_vec)\n",
    "plt.plot(logHFHM, logWF)\n",
    "plt.ylabel('log(WF/WM)')\n",
    "plt.xlabel('log(HF/HM)')\n",
    "plt.show()"
   ]
  },
  {
   "cell_type": "markdown",
   "metadata": {},
   "source": [
    "We find a similar relationship between wagegap and housework as in question 3, but we see a more a clear correlation, without the \"kink\" witnessed in the graph for Q3."
   ]
  },
  {
   "cell_type": "markdown",
   "metadata": {},
   "source": [
    "# Question 4"
   ]
  },
  {
   "cell_type": "code",
   "execution_count": 16,
   "metadata": {
    "scrolled": false
   },
   "outputs": [
    {
     "name": "stderr",
     "output_type": "stream",
     "text": [
      "/Users/rachelrea/Library/Mobile Documents/com~apple~CloudDocs/IT and Cognition/Intro to prog/inauguralproject/inauguralproject2.py:67: RuntimeWarning: divide by zero encountered in double_scalars\n",
      "  H = ((1 - par.alpha) * HM**((par.sigma - 1) / par.sigma) + par.alpha * HF**((par.sigma - 1) / par.sigma))**(par.sigma / (par.sigma - 1))\n",
      "/Users/rachelrea/Library/Mobile Documents/com~apple~CloudDocs/IT and Cognition/Intro to prog/inauguralproject/inauguralproject2.py:67: RuntimeWarning: invalid value encountered in double_scalars\n",
      "  H = ((1 - par.alpha) * HM**((par.sigma - 1) / par.sigma) + par.alpha * HF**((par.sigma - 1) / par.sigma))**(par.sigma / (par.sigma - 1))\n"
     ]
    },
    {
     "name": "stdout",
     "output_type": "stream",
     "text": [
      "alpha =  0.9820790181235084 sigma =  0.0999335358060506\n"
     ]
    }
   ],
   "source": [
    "# %debug\n",
    "alpha_est, sigma_est = model.estimate1()\n",
    "\n",
    "#provide estimates for alpha and sigma, utilising estimate method. \n",
    "print('alpha = ', alpha_est, 'sigma = ', sigma_est)\n"
   ]
  },
  {
   "cell_type": "code",
   "execution_count": 17,
   "metadata": {},
   "outputs": [],
   "source": [
    "\n",
    "\n",
    "#Set up data\n",
    "w_F = np.array([0.8, 0.9, 1.0, 1.1, 1.2])\n",
    "w_M = np.ones(5)\n",
    "data = pd.DataFrame({'w_F': w_F, 'w_M': w_M, 'logHFHM': logHFHM})\n"
   ]
  },
  {
   "cell_type": "code",
   "execution_count": 18,
   "metadata": {},
   "outputs": [
    {
     "data": {
      "image/png": "[encoded data removed]",
      "text/plain": [
       "<Figure size 432x288 with 1 Axes>"
      ]
     },
     "metadata": {
      "needs_background": "light"
     },
     "output_type": "display_data"
    }
   ],
   "source": [
    "plt.scatter(x=np.log(w_F/w_M), y=logHFHM, color='black')\n",
    "sns.regplot(x=np.log(w_F/w_M), y=logHFHM, scatter=False, color='black')\n",
    "\n",
    "#could not get the following to work\n",
    "#for i in range(5):\n",
    "#    sns.regplot(x=np.log(w_F[i]/w_M[i]), y=data.loc[data['w_F']==w_F[i], 'logHFHM'], scatter=False, color='blue')\n",
    "\n",
    "plt.xlabel('log(w_F/w_M)')\n",
    "plt.ylabel('log(H_F/H_M)')\n",
    "plt.title('Regression of log(H_F/H_M) on log(w_F/w_M)')\n",
    "plt.show()    "
   ]
  },
  {
   "cell_type": "markdown",
   "metadata": {},
   "source": [
    "The data points and fitted model for the ideal alpha and sigma values are displayed in the ensuing figure. A higher wage ratio results in a smaller time ratio, which indicates greater specialization in the labor market. This relationship between the wage ratio of men and women (wF/wM) and the time ratio of women to men (HF/HM) is captured by the model, according to an economic interpretation. The best fit of the model to the data is represented by the ideal alpha and sigma values, which can be used to calculate the predicted time ratio for a particular wage ratio."
   ]
  },
  {
   "cell_type": "markdown",
   "metadata": {},
   "source": [
    "# Question 5"
   ]
  },
  {
   "cell_type": "markdown",
   "metadata": {},
   "source": [
    "We changed the formula to allow for different values of $\\epsilon$ or $\\nu$. \n",
    "For the sake of demonstration, we set the following paramters:\n",
    "\n",
    "We set $\\epsilon_M$ for men to 1.5 and $\\epsilon_F$ for women to 0.5. \n",
    "The higher value of $\\epsilon$ for men (compared to women) hypothetically assumes that men are less willing to give up leisure time in order to increase consumption, while women are more willing to do so.\n",
    "\n",
    "We set $\\nu_M$ for men to 0.01 and $\\nu_F$ for women to 0.001. \n",
    "This hypothetically implies that men are more averse to spending time on household production, and are willing to pay more to avoid it, relative to women.\n"
   ]
  },
  {
   "cell_type": "code",
   "execution_count": 19,
   "metadata": {},
   "outputs": [
    {
     "name": "stdout",
     "output_type": "stream",
     "text": [
      "0.01 0.001 1.5 0.5\n"
     ]
    },
    {
     "name": "stderr",
     "output_type": "stream",
     "text": [
      "/Users/rachelrea/Library/Mobile Documents/com~apple~CloudDocs/IT and Cognition/Intro to prog/inauguralproject/inauguralproject2.py:67: RuntimeWarning: divide by zero encountered in double_scalars\n",
      "  H = ((1 - par.alpha) * HM**((par.sigma - 1) / par.sigma) + par.alpha * HF**((par.sigma - 1) / par.sigma))**(par.sigma / (par.sigma - 1))\n"
     ]
    },
    {
     "name": "stdout",
     "output_type": "stream",
     "text": [
      "nu_M =  0.001244794151854827 nu_F =  0.00112420360636848 sigma =  0.09992255699863356 eps_M =  1.3373383176225038 eps_F =  1.0236059548575502\n"
     ]
    }
   ],
   "source": [
    "model2= HouseholdSpecializationModelClass(epsilon_M = 1.5, epsilon_F = 0.5, nu_M=0.01, nu_F=0.001)\n",
    "nu_M2, nu_F2, sigma_est2, epsilon_M2, epsilon_F2 = model.estimate()\n",
    "print('nu_M = ', nu_M2, 'nu_F = ', nu_F2, 'sigma = ', sigma_est2, 'eps_M = ', epsilon_M2, 'eps_F = ', epsilon_F2)\n",
    "#previous answer (Q4) sigma =  0.0999335358060506"
   ]
  },
  {
   "cell_type": "markdown",
   "metadata": {},
   "source": [
    "We see that men have slightly less disutility of work compared to women. So men are less willing to give up leisure time in order to increase consumption, while women are more willing to do so.\n"
   ]
  },
  {
   "cell_type": "code",
   "execution_count": 20,
   "metadata": {},
   "outputs": [],
   "source": [
    "model.sol\n",
    "idx = 4"
   ]
  },
  {
   "cell_type": "code",
   "execution_count": 21,
   "metadata": {},
   "outputs": [
    {
     "data": {
      "text/plain": [
       "-0.2178897091040311"
      ]
     },
     "execution_count": 21,
     "metadata": {},
     "output_type": "execute_result"
    }
   ],
   "source": [
    "model.calc_utility(model.sol.LM_vec[idx], \n",
    "                   model.sol.HM_vec[idx],\n",
    "                   model.sol.LF_vec[idx],\n",
    "                   model.sol.HF_vec[idx])"
   ]
  },
  {
   "cell_type": "markdown",
   "metadata": {},
   "source": [
    "Theoretically, for $alpha = 0.5$, allowing for different values of $epsilon$ or $nu$ for men and women might help to match the data because it would account for gender differences in the disutility from working and/or the value of time spent on household production.\n",
    "\n",
    "Women may choose to work less in the market and spend more time on household production if they have a higher disutility from working (i.e., a higher value of $nu$ or $epsilon$) or if their time spent on household production is more valuable (i.e., a lower value of $epsilon$). This would be consistent with empirical evidence on gender differences in time use."
   ]
  }
 ],
 "metadata": {
  "kernelspec": {
   "display_name": "Python 3 (ipykernel)",
   "language": "python",
   "name": "python3"
  },
  "language_info": {
   "codemirror_mode": {
    "name": "ipython",
    "version": 3
   },
   "file_extension": ".py",
   "mimetype": "text/x-python",
   "name": "python",
   "nbconvert_exporter": "python",
   "pygments_lexer": "ipython3",
   "version": "3.8.12"
  },
  "toc-autonumbering": true,
  "vscode": {
   "interpreter": {
    "hash": "47ef90cdf3004d3f859f1fb202523c65c07ba7c22eefd261b181f4744e2d0403"
   }
  }
 },
 "nbformat": 4,
 "nbformat_minor": 4
}
